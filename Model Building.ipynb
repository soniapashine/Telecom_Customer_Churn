{
 "cells": [
  {
   "cell_type": "markdown",
   "id": "5ba95d9e",
   "metadata": {},
   "source": [
    "# Model Building"
   ]
  },
  {
   "cell_type": "markdown",
   "id": "a21b4076",
   "metadata": {},
   "source": [
    "## Importing Model Building Libraries"
   ]
  },
  {
   "cell_type": "code",
   "execution_count": 1,
   "id": "d05084b0",
   "metadata": {},
   "outputs": [],
   "source": [
    "import numpy as np\n",
    "import pandas as pd\n",
    "\n",
    "from sklearn.preprocessing import LabelEncoder\n",
    "from sklearn.preprocessing import StandardScaler\n",
    "\n",
    "from sklearn import model_selection\n",
    "from sklearn.model_selection import train_test_split\n",
    "from sklearn.model_selection import cross_val_score\n",
    "from sklearn.model_selection import GridSearchCV\n",
    "from sklearn.model_selection import ShuffleSplit\n",
    "from sklearn.model_selection import KFold\n",
    "\n",
    "from sklearn.neighbors import KNeighborsClassifier\n",
    "from sklearn.tree import DecisionTreeClassifier\n",
    "from sklearn.ensemble import RandomForestClassifier\n",
    "from sklearn.ensemble import ExtraTreesClassifier\n",
    "from xgboost import XGBClassifier\n",
    "from sklearn.ensemble import GradientBoostingRegressor"
   ]
  },
  {
   "cell_type": "code",
   "execution_count": 2,
   "id": "eed03d92",
   "metadata": {},
   "outputs": [],
   "source": [
    "from sklearn.ensemble import VotingClassifier\n",
    "from statsmodels.stats.outliers_influence import variance_inflation_factor\n",
    "from sklearn import feature_selection\n",
    "from sklearn.inspection import permutation_importance\n",
    "\n",
    "from sklearn import metrics\n",
    "from sklearn.metrics import classification_report, precision_recall_curve\n",
    "from sklearn.metrics import auc, roc_auc_score, roc_curve\n",
    "from sklearn.metrics import make_scorer, recall_score, log_loss,r2_score\n",
    "from sklearn.metrics import average_precision_score, accuracy_score, precision_score\n",
    "from sklearn.metrics import confusion_matrix, plot_roc_curve, f1_score, fbeta_score\n",
    "\n",
    "import warnings\n",
    "warnings.filterwarnings('ignore')\n",
    "import matplotlib.pyplot as plt\n",
    "%matplotlib inline\n",
    "from imblearn.combine import SMOTEENN\n",
    "import pickle"
   ]
  },
  {
   "cell_type": "markdown",
   "id": "22279fa4",
   "metadata": {},
   "source": [
    "## Loading Dataset"
   ]
  },
  {
   "cell_type": "code",
   "execution_count": 3,
   "id": "2d383cd0",
   "metadata": {},
   "outputs": [],
   "source": [
    "df = pd.read_csv(\"C:/Users/USER/Final_Project_churn/Telecomm-churn-retention-data-result.csv\")"
   ]
  },
  {
   "cell_type": "markdown",
   "id": "e4052bb2",
   "metadata": {},
   "source": [
    "### Splitting the Dataset into test and train"
   ]
  },
  {
   "cell_type": "code",
   "execution_count": 4,
   "id": "f2605f65",
   "metadata": {},
   "outputs": [],
   "source": [
    "#df=df.drop('Unnamed: 0',axis=1)"
   ]
  },
  {
   "cell_type": "code",
   "execution_count": 5,
   "id": "5dbe36e3",
   "metadata": {},
   "outputs": [],
   "source": [
    "x = df.drop(columns = \"customerstatus\")\n",
    "y = df[\"customerstatus\"].values"
   ]
  },
  {
   "cell_type": "code",
   "execution_count": 6,
   "id": "b3246be7",
   "metadata": {},
   "outputs": [],
   "source": [
    "X_train, X_test, y_train, y_test = train_test_split(x, y, test_size = 0.3, random_state = 11)"
   ]
  },
  {
   "cell_type": "code",
   "execution_count": 7,
   "id": "b92ebe57",
   "metadata": {},
   "outputs": [],
   "source": [
    "col=['totalcharges','avgmonthlylongdistancecharges','monthlycharge','totalrevenue',\n",
    "     'totallongdistancecharges','totalextradatacharges']"
   ]
  },
  {
   "cell_type": "markdown",
   "id": "7d73e0ec",
   "metadata": {},
   "source": [
    "*Standardization of a dataset is a common requirement for many machine learning estimators therefore, Standard Scalar is used for standardization.*"
   ]
  },
  {
   "cell_type": "code",
   "execution_count": 8,
   "id": "842aba78",
   "metadata": {},
   "outputs": [],
   "source": [
    "scaler = StandardScaler()\n",
    "X_train[col] = StandardScaler().fit_transform(X_train[col])\n",
    "X_test[col] = StandardScaler().fit_transform(X_test[col])"
   ]
  },
  {
   "cell_type": "markdown",
   "id": "29630b34",
   "metadata": {},
   "source": [
    "# Model Building Without Optimization \n",
    "*Since its a binary Classification Problem. So I have tried to build several classification models. At first I have just used the base models and have evaluated them to check how they are performing*"
   ]
  },
  {
   "cell_type": "code",
   "execution_count": 9,
   "id": "67f4738f",
   "metadata": {},
   "outputs": [],
   "source": [
    "models = []\n",
    "models.append(('Random Forest Classifier', RandomForestClassifier()))\n",
    "models.append(('Decision Tree Classifier', DecisionTreeClassifier()))\n",
    "models.append(('XGB Classifier',XGBClassifier()))\n",
    "models.append(('KNN Classifier', KNeighborsClassifier()))\n"
   ]
  },
  {
   "cell_type": "code",
   "execution_count": 10,
   "id": "6b35de3e",
   "metadata": {},
   "outputs": [
    {
     "data": {
      "text/html": [
       "<div>\n",
       "<style scoped>\n",
       "    .dataframe tbody tr th:only-of-type {\n",
       "        vertical-align: middle;\n",
       "    }\n",
       "\n",
       "    .dataframe tbody tr th {\n",
       "        vertical-align: top;\n",
       "    }\n",
       "\n",
       "    .dataframe thead th {\n",
       "        text-align: right;\n",
       "    }\n",
       "</style>\n",
       "<table border=\"1\" class=\"dataframe\">\n",
       "  <thead>\n",
       "    <tr style=\"text-align: right;\">\n",
       "      <th></th>\n",
       "      <th>Algorithm</th>\n",
       "      <th>ROC AUC</th>\n",
       "      <th>Accuracy</th>\n",
       "      <th>Precision</th>\n",
       "      <th>f1 Score</th>\n",
       "    </tr>\n",
       "  </thead>\n",
       "  <tbody>\n",
       "    <tr>\n",
       "      <th>2</th>\n",
       "      <td>XGB Classifier</td>\n",
       "      <td>82.79</td>\n",
       "      <td>59.75</td>\n",
       "      <td>68.48</td>\n",
       "      <td>24.34</td>\n",
       "    </tr>\n",
       "    <tr>\n",
       "      <th>0</th>\n",
       "      <td>Random Forest Classifier</td>\n",
       "      <td>76.41</td>\n",
       "      <td>57.33</td>\n",
       "      <td>31.42</td>\n",
       "      <td>25.76</td>\n",
       "    </tr>\n",
       "    <tr>\n",
       "      <th>1</th>\n",
       "      <td>Decision Tree Classifier</td>\n",
       "      <td>71.34</td>\n",
       "      <td>54.87</td>\n",
       "      <td>26.27</td>\n",
       "      <td>27.29</td>\n",
       "    </tr>\n",
       "    <tr>\n",
       "      <th>3</th>\n",
       "      <td>KNN Classifier</td>\n",
       "      <td>78.14</td>\n",
       "      <td>53.40</td>\n",
       "      <td>23.96</td>\n",
       "      <td>11.71</td>\n",
       "    </tr>\n",
       "  </tbody>\n",
       "</table>\n",
       "</div>"
      ],
      "text/plain": [
       "                  Algorithm  ROC AUC  Accuracy  Precision  f1 Score\n",
       "2            XGB Classifier    82.79     59.75      68.48     24.34\n",
       "0  Random Forest Classifier    76.41     57.33      31.42     25.76\n",
       "1  Decision Tree Classifier    71.34     54.87      26.27     27.29\n",
       "3            KNN Classifier    78.14     53.40      23.96     11.71"
      ]
     },
     "execution_count": 10,
     "metadata": {},
     "output_type": "execute_result"
    }
   ],
   "source": [
    "acc_results =[]\n",
    "auc_results =[]\n",
    "pre_results =[]\n",
    "f1_results =[]\n",
    "names = []\n",
    "\n",
    "result_col = [\"Algorithm\", \"ROC AUC\", \"Accuracy\", \"Precision\", \"f1 Score\"]\n",
    "model_results = pd.DataFrame(columns = result_col)\n",
    "\n",
    "i=0\n",
    "# K- fold cross validation\n",
    "\n",
    "for name, model in models:\n",
    "    names.append(name)\n",
    "    # kfold = model_selection.KFold(n_splits=10)\n",
    "    \n",
    "    cv_acc_results = model_selection.cross_val_score(model, X_train, y_train, \n",
    "                     scoring=\"accuracy\")\n",
    "    cv_auc_results = model_selection.cross_val_score(model, X_train, y_train,\n",
    "                     scoring=\"roc_auc\")\n",
    "    cv_pre_results = model_selection.cross_val_score(model, X_train, y_train,\n",
    "                     scoring=\"precision\")\n",
    "    cv_f1_results = model_selection.cross_val_score(model, X_train, y_train,\n",
    "                     scoring=\"f1\")\n",
    "    acc_results.append(cv_acc_results)\n",
    "    auc_results.append(cv_auc_results)\n",
    "    pre_results.append(cv_pre_results)\n",
    "    f1_results.append(cv_f1_results)\n",
    "    \n",
    "    model_results.loc[i] = [name, \n",
    "                           round(cv_acc_results.mean()*100,2),\n",
    "                           round(cv_auc_results.mean()*100,2),\n",
    "                           round(cv_pre_results.mean()*100,2),\n",
    "                           round(cv_f1_results.mean()*100,2)]\n",
    "    i+=1\n",
    "\n",
    "model_results.sort_values(by = ['Accuracy'], ascending=False)"
   ]
  },
  {
   "cell_type": "markdown",
   "id": "8f608895",
   "metadata": {},
   "source": [
    "*As you can see that the accuracy is quite low, and as it's an imbalanced dataset, we shouldn't consider Accuracy as our metrics to measure the model, as Accuracy is cursed in imbalanced datasets.*\n",
    "\n",
    "*Hence, we need to check recall, precision & f1 score for the minority class, and it's quite evident that the precision, recall & f1 score is too low.*\n",
    "\n",
    "*Hence, moving ahead to call SMOTEENN (UpSampling + ENN) and finding good hyper parameters for best accuracy, precision, recall & f1 score*"
   ]
  },
  {
   "cell_type": "markdown",
   "id": "360e5cf9",
   "metadata": {},
   "source": [
    "## SMOTEENN"
   ]
  },
  {
   "cell_type": "code",
   "execution_count": 16,
   "id": "126e5812",
   "metadata": {},
   "outputs": [],
   "source": [
    "sm = SMOTEENN(random_state=11)\n",
    "X_resampled, y_resampled = sm.fit_resample(x,y)\n"
   ]
  },
  {
   "cell_type": "code",
   "execution_count": 17,
   "id": "1e5b664e",
   "metadata": {},
   "outputs": [],
   "source": [
    "xr_train,xr_test,yr_train,yr_test=train_test_split(X_resampled, y_resampled,test_size=0.3, random_state = 11)"
   ]
  },
  {
   "cell_type": "markdown",
   "id": "decf7eb0",
   "metadata": {},
   "source": [
    "# Finding Good Hyper Parameters for various Models"
   ]
  },
  {
   "cell_type": "markdown",
   "id": "d15f741e",
   "metadata": {},
   "source": [
    "## Decision Tree Classifier"
   ]
  },
  {
   "cell_type": "code",
   "execution_count": 18,
   "id": "37c80af5",
   "metadata": {},
   "outputs": [
    {
     "data": {
      "text/html": [
       "<style>#sk-container-id-2 {color: black;background-color: white;}#sk-container-id-2 pre{padding: 0;}#sk-container-id-2 div.sk-toggleable {background-color: white;}#sk-container-id-2 label.sk-toggleable__label {cursor: pointer;display: block;width: 100%;margin-bottom: 0;padding: 0.3em;box-sizing: border-box;text-align: center;}#sk-container-id-2 label.sk-toggleable__label-arrow:before {content: \"▸\";float: left;margin-right: 0.25em;color: #696969;}#sk-container-id-2 label.sk-toggleable__label-arrow:hover:before {color: black;}#sk-container-id-2 div.sk-estimator:hover label.sk-toggleable__label-arrow:before {color: black;}#sk-container-id-2 div.sk-toggleable__content {max-height: 0;max-width: 0;overflow: hidden;text-align: left;background-color: #f0f8ff;}#sk-container-id-2 div.sk-toggleable__content pre {margin: 0.2em;color: black;border-radius: 0.25em;background-color: #f0f8ff;}#sk-container-id-2 input.sk-toggleable__control:checked~div.sk-toggleable__content {max-height: 200px;max-width: 100%;overflow: auto;}#sk-container-id-2 input.sk-toggleable__control:checked~label.sk-toggleable__label-arrow:before {content: \"▾\";}#sk-container-id-2 div.sk-estimator input.sk-toggleable__control:checked~label.sk-toggleable__label {background-color: #d4ebff;}#sk-container-id-2 div.sk-label input.sk-toggleable__control:checked~label.sk-toggleable__label {background-color: #d4ebff;}#sk-container-id-2 input.sk-hidden--visually {border: 0;clip: rect(1px 1px 1px 1px);clip: rect(1px, 1px, 1px, 1px);height: 1px;margin: -1px;overflow: hidden;padding: 0;position: absolute;width: 1px;}#sk-container-id-2 div.sk-estimator {font-family: monospace;background-color: #f0f8ff;border: 1px dotted black;border-radius: 0.25em;box-sizing: border-box;margin-bottom: 0.5em;}#sk-container-id-2 div.sk-estimator:hover {background-color: #d4ebff;}#sk-container-id-2 div.sk-parallel-item::after {content: \"\";width: 100%;border-bottom: 1px solid gray;flex-grow: 1;}#sk-container-id-2 div.sk-label:hover label.sk-toggleable__label {background-color: #d4ebff;}#sk-container-id-2 div.sk-serial::before {content: \"\";position: absolute;border-left: 1px solid gray;box-sizing: border-box;top: 0;bottom: 0;left: 50%;z-index: 0;}#sk-container-id-2 div.sk-serial {display: flex;flex-direction: column;align-items: center;background-color: white;padding-right: 0.2em;padding-left: 0.2em;position: relative;}#sk-container-id-2 div.sk-item {position: relative;z-index: 1;}#sk-container-id-2 div.sk-parallel {display: flex;align-items: stretch;justify-content: center;background-color: white;position: relative;}#sk-container-id-2 div.sk-item::before, #sk-container-id-2 div.sk-parallel-item::before {content: \"\";position: absolute;border-left: 1px solid gray;box-sizing: border-box;top: 0;bottom: 0;left: 50%;z-index: -1;}#sk-container-id-2 div.sk-parallel-item {display: flex;flex-direction: column;z-index: 1;position: relative;background-color: white;}#sk-container-id-2 div.sk-parallel-item:first-child::after {align-self: flex-end;width: 50%;}#sk-container-id-2 div.sk-parallel-item:last-child::after {align-self: flex-start;width: 50%;}#sk-container-id-2 div.sk-parallel-item:only-child::after {width: 0;}#sk-container-id-2 div.sk-dashed-wrapped {border: 1px dashed gray;margin: 0 0.4em 0.5em 0.4em;box-sizing: border-box;padding-bottom: 0.4em;background-color: white;}#sk-container-id-2 div.sk-label label {font-family: monospace;font-weight: bold;display: inline-block;line-height: 1.2em;}#sk-container-id-2 div.sk-label-container {text-align: center;}#sk-container-id-2 div.sk-container {/* jupyter's `normalize.less` sets `[hidden] { display: none; }` but bootstrap.min.css set `[hidden] { display: none !important; }` so we also need the `!important` here to be able to override the default hidden behavior on the sphinx rendered scikit-learn.org. See: https://github.com/scikit-learn/scikit-learn/issues/21755 */display: inline-block !important;position: relative;}#sk-container-id-2 div.sk-text-repr-fallback {display: none;}</style><div id=\"sk-container-id-2\" class=\"sk-top-container\"><div class=\"sk-text-repr-fallback\"><pre>DecisionTreeClassifier()</pre><b>In a Jupyter environment, please rerun this cell to show the HTML representation or trust the notebook. <br />On GitHub, the HTML representation is unable to render, please try loading this page with nbviewer.org.</b></div><div class=\"sk-container\" hidden><div class=\"sk-item\"><div class=\"sk-estimator sk-toggleable\"><input class=\"sk-toggleable__control sk-hidden--visually\" id=\"sk-estimator-id-2\" type=\"checkbox\" checked><label for=\"sk-estimator-id-2\" class=\"sk-toggleable__label sk-toggleable__label-arrow\">DecisionTreeClassifier</label><div class=\"sk-toggleable__content\"><pre>DecisionTreeClassifier()</pre></div></div></div></div></div>"
      ],
      "text/plain": [
       "DecisionTreeClassifier()"
      ]
     },
     "execution_count": 18,
     "metadata": {},
     "output_type": "execute_result"
    }
   ],
   "source": [
    "modelDTC= DecisionTreeClassifier()\n",
    "modelDTC.fit(xr_train, yr_train) "
   ]
  },
  {
   "cell_type": "code",
   "execution_count": 19,
   "id": "e13b4537",
   "metadata": {},
   "outputs": [],
   "source": [
    "pred_train_DTC = modelDTC.predict(xr_train)\n",
    "pred_test_DTC=modelDTC.predict(xr_test)"
   ]
  },
  {
   "cell_type": "code",
   "execution_count": 20,
   "id": "6d8ce88e",
   "metadata": {},
   "outputs": [
    {
     "name": "stdout",
     "output_type": "stream",
     "text": [
      "Training accuracy  1.000\n",
      "Testing accuracy  0.823\n"
     ]
    }
   ],
   "source": [
    "acc_train_DTC = accuracy_score(pred_train_DTC, yr_train)\n",
    "acc_test_DTC = accuracy_score(pred_test_DTC, yr_test)\n",
    "print(f'Training accuracy {acc_train_DTC: .3f}') \n",
    "print(f'Testing accuracy {acc_test_DTC: .3f}')"
   ]
  },
  {
   "cell_type": "markdown",
   "id": "d34de613",
   "metadata": {},
   "source": [
    "### Tuning The Parameters"
   ]
  },
  {
   "cell_type": "code",
   "execution_count": 21,
   "id": "21b4f9dc",
   "metadata": {},
   "outputs": [
    {
     "name": "stdout",
     "output_type": "stream",
     "text": [
      "Fitting 5 folds for each of 135 candidates, totalling 675 fits\n",
      "\n",
      "Best parameters found:\n",
      "{'criterion': 'log_loss', 'max_depth': 21, 'max_features': 'sqrt'}\n",
      "\n",
      "Grid scores:\n",
      "0.782 (+/-0.005) for {'criterion': 'gini', 'max_depth': 10, 'max_features': 'auto'}\n",
      "0.778 (+/-0.022) for {'criterion': 'gini', 'max_depth': 10, 'max_features': 'sqrt'}\n",
      "0.778 (+/-0.016) for {'criterion': 'gini', 'max_depth': 10, 'max_features': 'log2'}\n",
      "0.791 (+/-0.010) for {'criterion': 'gini', 'max_depth': 11, 'max_features': 'auto'}\n",
      "0.792 (+/-0.027) for {'criterion': 'gini', 'max_depth': 11, 'max_features': 'sqrt'}\n",
      "0.782 (+/-0.016) for {'criterion': 'gini', 'max_depth': 11, 'max_features': 'log2'}\n",
      "0.801 (+/-0.008) for {'criterion': 'gini', 'max_depth': 12, 'max_features': 'auto'}\n",
      "0.796 (+/-0.012) for {'criterion': 'gini', 'max_depth': 12, 'max_features': 'sqrt'}\n",
      "0.782 (+/-0.025) for {'criterion': 'gini', 'max_depth': 12, 'max_features': 'log2'}\n",
      "0.806 (+/-0.009) for {'criterion': 'gini', 'max_depth': 13, 'max_features': 'auto'}\n",
      "0.798 (+/-0.013) for {'criterion': 'gini', 'max_depth': 13, 'max_features': 'sqrt'}\n",
      "0.796 (+/-0.007) for {'criterion': 'gini', 'max_depth': 13, 'max_features': 'log2'}\n",
      "0.805 (+/-0.008) for {'criterion': 'gini', 'max_depth': 14, 'max_features': 'auto'}\n",
      "0.804 (+/-0.017) for {'criterion': 'gini', 'max_depth': 14, 'max_features': 'sqrt'}\n",
      "0.797 (+/-0.010) for {'criterion': 'gini', 'max_depth': 14, 'max_features': 'log2'}\n",
      "0.810 (+/-0.022) for {'criterion': 'gini', 'max_depth': 15, 'max_features': 'auto'}\n",
      "0.812 (+/-0.004) for {'criterion': 'gini', 'max_depth': 15, 'max_features': 'sqrt'}\n",
      "0.802 (+/-0.021) for {'criterion': 'gini', 'max_depth': 15, 'max_features': 'log2'}\n",
      "0.812 (+/-0.011) for {'criterion': 'gini', 'max_depth': 16, 'max_features': 'auto'}\n",
      "0.810 (+/-0.007) for {'criterion': 'gini', 'max_depth': 16, 'max_features': 'sqrt'}\n",
      "0.801 (+/-0.012) for {'criterion': 'gini', 'max_depth': 16, 'max_features': 'log2'}\n",
      "0.813 (+/-0.014) for {'criterion': 'gini', 'max_depth': 17, 'max_features': 'auto'}\n",
      "0.809 (+/-0.013) for {'criterion': 'gini', 'max_depth': 17, 'max_features': 'sqrt'}\n",
      "0.802 (+/-0.006) for {'criterion': 'gini', 'max_depth': 17, 'max_features': 'log2'}\n",
      "0.812 (+/-0.014) for {'criterion': 'gini', 'max_depth': 18, 'max_features': 'auto'}\n",
      "0.813 (+/-0.010) for {'criterion': 'gini', 'max_depth': 18, 'max_features': 'sqrt'}\n",
      "0.806 (+/-0.017) for {'criterion': 'gini', 'max_depth': 18, 'max_features': 'log2'}\n",
      "0.813 (+/-0.008) for {'criterion': 'gini', 'max_depth': 19, 'max_features': 'auto'}\n",
      "0.813 (+/-0.016) for {'criterion': 'gini', 'max_depth': 19, 'max_features': 'sqrt'}\n",
      "0.811 (+/-0.012) for {'criterion': 'gini', 'max_depth': 19, 'max_features': 'log2'}\n",
      "0.809 (+/-0.009) for {'criterion': 'gini', 'max_depth': 20, 'max_features': 'auto'}\n",
      "0.814 (+/-0.009) for {'criterion': 'gini', 'max_depth': 20, 'max_features': 'sqrt'}\n",
      "0.803 (+/-0.005) for {'criterion': 'gini', 'max_depth': 20, 'max_features': 'log2'}\n",
      "0.809 (+/-0.007) for {'criterion': 'gini', 'max_depth': 21, 'max_features': 'auto'}\n",
      "0.817 (+/-0.011) for {'criterion': 'gini', 'max_depth': 21, 'max_features': 'sqrt'}\n",
      "0.808 (+/-0.013) for {'criterion': 'gini', 'max_depth': 21, 'max_features': 'log2'}\n",
      "0.810 (+/-0.013) for {'criterion': 'gini', 'max_depth': 22, 'max_features': 'auto'}\n",
      "0.814 (+/-0.009) for {'criterion': 'gini', 'max_depth': 22, 'max_features': 'sqrt'}\n",
      "0.804 (+/-0.011) for {'criterion': 'gini', 'max_depth': 22, 'max_features': 'log2'}\n",
      "0.809 (+/-0.012) for {'criterion': 'gini', 'max_depth': 23, 'max_features': 'auto'}\n",
      "0.810 (+/-0.013) for {'criterion': 'gini', 'max_depth': 23, 'max_features': 'sqrt'}\n",
      "0.812 (+/-0.006) for {'criterion': 'gini', 'max_depth': 23, 'max_features': 'log2'}\n",
      "0.809 (+/-0.006) for {'criterion': 'gini', 'max_depth': 24, 'max_features': 'auto'}\n",
      "0.811 (+/-0.008) for {'criterion': 'gini', 'max_depth': 24, 'max_features': 'sqrt'}\n",
      "0.809 (+/-0.002) for {'criterion': 'gini', 'max_depth': 24, 'max_features': 'log2'}\n",
      "0.790 (+/-0.031) for {'criterion': 'entropy', 'max_depth': 10, 'max_features': 'auto'}\n",
      "0.785 (+/-0.010) for {'criterion': 'entropy', 'max_depth': 10, 'max_features': 'sqrt'}\n",
      "0.765 (+/-0.012) for {'criterion': 'entropy', 'max_depth': 10, 'max_features': 'log2'}\n",
      "0.790 (+/-0.017) for {'criterion': 'entropy', 'max_depth': 11, 'max_features': 'auto'}\n",
      "0.790 (+/-0.018) for {'criterion': 'entropy', 'max_depth': 11, 'max_features': 'sqrt'}\n",
      "0.780 (+/-0.008) for {'criterion': 'entropy', 'max_depth': 11, 'max_features': 'log2'}\n",
      "0.797 (+/-0.013) for {'criterion': 'entropy', 'max_depth': 12, 'max_features': 'auto'}\n",
      "0.793 (+/-0.019) for {'criterion': 'entropy', 'max_depth': 12, 'max_features': 'sqrt'}\n",
      "0.790 (+/-0.016) for {'criterion': 'entropy', 'max_depth': 12, 'max_features': 'log2'}\n",
      "0.799 (+/-0.024) for {'criterion': 'entropy', 'max_depth': 13, 'max_features': 'auto'}\n",
      "0.807 (+/-0.017) for {'criterion': 'entropy', 'max_depth': 13, 'max_features': 'sqrt'}\n",
      "0.799 (+/-0.013) for {'criterion': 'entropy', 'max_depth': 13, 'max_features': 'log2'}\n",
      "0.805 (+/-0.008) for {'criterion': 'entropy', 'max_depth': 14, 'max_features': 'auto'}\n",
      "0.808 (+/-0.018) for {'criterion': 'entropy', 'max_depth': 14, 'max_features': 'sqrt'}\n",
      "0.795 (+/-0.014) for {'criterion': 'entropy', 'max_depth': 14, 'max_features': 'log2'}\n",
      "0.806 (+/-0.014) for {'criterion': 'entropy', 'max_depth': 15, 'max_features': 'auto'}\n",
      "0.812 (+/-0.021) for {'criterion': 'entropy', 'max_depth': 15, 'max_features': 'sqrt'}\n",
      "0.807 (+/-0.010) for {'criterion': 'entropy', 'max_depth': 15, 'max_features': 'log2'}\n",
      "0.813 (+/-0.017) for {'criterion': 'entropy', 'max_depth': 16, 'max_features': 'auto'}\n",
      "0.814 (+/-0.017) for {'criterion': 'entropy', 'max_depth': 16, 'max_features': 'sqrt'}\n",
      "0.807 (+/-0.007) for {'criterion': 'entropy', 'max_depth': 16, 'max_features': 'log2'}\n",
      "0.816 (+/-0.013) for {'criterion': 'entropy', 'max_depth': 17, 'max_features': 'auto'}\n",
      "0.812 (+/-0.014) for {'criterion': 'entropy', 'max_depth': 17, 'max_features': 'sqrt'}\n",
      "0.809 (+/-0.010) for {'criterion': 'entropy', 'max_depth': 17, 'max_features': 'log2'}\n",
      "0.815 (+/-0.006) for {'criterion': 'entropy', 'max_depth': 18, 'max_features': 'auto'}\n",
      "0.815 (+/-0.007) for {'criterion': 'entropy', 'max_depth': 18, 'max_features': 'sqrt'}\n",
      "0.806 (+/-0.007) for {'criterion': 'entropy', 'max_depth': 18, 'max_features': 'log2'}\n",
      "0.818 (+/-0.009) for {'criterion': 'entropy', 'max_depth': 19, 'max_features': 'auto'}\n",
      "0.814 (+/-0.012) for {'criterion': 'entropy', 'max_depth': 19, 'max_features': 'sqrt'}\n",
      "0.807 (+/-0.010) for {'criterion': 'entropy', 'max_depth': 19, 'max_features': 'log2'}\n",
      "0.812 (+/-0.002) for {'criterion': 'entropy', 'max_depth': 20, 'max_features': 'auto'}\n",
      "0.814 (+/-0.016) for {'criterion': 'entropy', 'max_depth': 20, 'max_features': 'sqrt'}\n",
      "0.809 (+/-0.011) for {'criterion': 'entropy', 'max_depth': 20, 'max_features': 'log2'}\n",
      "0.817 (+/-0.009) for {'criterion': 'entropy', 'max_depth': 21, 'max_features': 'auto'}\n",
      "0.815 (+/-0.013) for {'criterion': 'entropy', 'max_depth': 21, 'max_features': 'sqrt'}\n",
      "0.809 (+/-0.007) for {'criterion': 'entropy', 'max_depth': 21, 'max_features': 'log2'}\n",
      "0.813 (+/-0.017) for {'criterion': 'entropy', 'max_depth': 22, 'max_features': 'auto'}\n",
      "0.815 (+/-0.010) for {'criterion': 'entropy', 'max_depth': 22, 'max_features': 'sqrt'}\n",
      "0.809 (+/-0.010) for {'criterion': 'entropy', 'max_depth': 22, 'max_features': 'log2'}\n",
      "0.816 (+/-0.005) for {'criterion': 'entropy', 'max_depth': 23, 'max_features': 'auto'}\n",
      "0.815 (+/-0.016) for {'criterion': 'entropy', 'max_depth': 23, 'max_features': 'sqrt'}\n",
      "0.817 (+/-0.019) for {'criterion': 'entropy', 'max_depth': 23, 'max_features': 'log2'}\n",
      "0.813 (+/-0.006) for {'criterion': 'entropy', 'max_depth': 24, 'max_features': 'auto'}\n",
      "0.814 (+/-0.003) for {'criterion': 'entropy', 'max_depth': 24, 'max_features': 'sqrt'}\n",
      "0.813 (+/-0.013) for {'criterion': 'entropy', 'max_depth': 24, 'max_features': 'log2'}\n",
      "0.777 (+/-0.011) for {'criterion': 'log_loss', 'max_depth': 10, 'max_features': 'auto'}\n",
      "0.778 (+/-0.028) for {'criterion': 'log_loss', 'max_depth': 10, 'max_features': 'sqrt'}\n",
      "0.764 (+/-0.023) for {'criterion': 'log_loss', 'max_depth': 10, 'max_features': 'log2'}\n",
      "0.793 (+/-0.008) for {'criterion': 'log_loss', 'max_depth': 11, 'max_features': 'auto'}\n",
      "0.795 (+/-0.030) for {'criterion': 'log_loss', 'max_depth': 11, 'max_features': 'sqrt'}\n",
      "0.774 (+/-0.023) for {'criterion': 'log_loss', 'max_depth': 11, 'max_features': 'log2'}\n",
      "0.798 (+/-0.020) for {'criterion': 'log_loss', 'max_depth': 12, 'max_features': 'auto'}\n",
      "0.802 (+/-0.014) for {'criterion': 'log_loss', 'max_depth': 12, 'max_features': 'sqrt'}\n",
      "0.787 (+/-0.024) for {'criterion': 'log_loss', 'max_depth': 12, 'max_features': 'log2'}\n",
      "0.807 (+/-0.023) for {'criterion': 'log_loss', 'max_depth': 13, 'max_features': 'auto'}\n",
      "0.806 (+/-0.004) for {'criterion': 'log_loss', 'max_depth': 13, 'max_features': 'sqrt'}\n",
      "0.793 (+/-0.020) for {'criterion': 'log_loss', 'max_depth': 13, 'max_features': 'log2'}\n",
      "0.811 (+/-0.011) for {'criterion': 'log_loss', 'max_depth': 14, 'max_features': 'auto'}\n",
      "0.808 (+/-0.015) for {'criterion': 'log_loss', 'max_depth': 14, 'max_features': 'sqrt'}\n",
      "0.797 (+/-0.021) for {'criterion': 'log_loss', 'max_depth': 14, 'max_features': 'log2'}\n",
      "0.813 (+/-0.012) for {'criterion': 'log_loss', 'max_depth': 15, 'max_features': 'auto'}\n",
      "0.803 (+/-0.010) for {'criterion': 'log_loss', 'max_depth': 15, 'max_features': 'sqrt'}\n",
      "0.801 (+/-0.024) for {'criterion': 'log_loss', 'max_depth': 15, 'max_features': 'log2'}\n",
      "0.811 (+/-0.008) for {'criterion': 'log_loss', 'max_depth': 16, 'max_features': 'auto'}\n",
      "0.813 (+/-0.014) for {'criterion': 'log_loss', 'max_depth': 16, 'max_features': 'sqrt'}\n",
      "0.801 (+/-0.012) for {'criterion': 'log_loss', 'max_depth': 16, 'max_features': 'log2'}\n",
      "0.814 (+/-0.008) for {'criterion': 'log_loss', 'max_depth': 17, 'max_features': 'auto'}\n",
      "0.819 (+/-0.016) for {'criterion': 'log_loss', 'max_depth': 17, 'max_features': 'sqrt'}\n",
      "0.814 (+/-0.019) for {'criterion': 'log_loss', 'max_depth': 17, 'max_features': 'log2'}\n",
      "0.813 (+/-0.014) for {'criterion': 'log_loss', 'max_depth': 18, 'max_features': 'auto'}\n",
      "0.811 (+/-0.009) for {'criterion': 'log_loss', 'max_depth': 18, 'max_features': 'sqrt'}\n",
      "0.808 (+/-0.013) for {'criterion': 'log_loss', 'max_depth': 18, 'max_features': 'log2'}\n",
      "0.819 (+/-0.005) for {'criterion': 'log_loss', 'max_depth': 19, 'max_features': 'auto'}\n",
      "0.815 (+/-0.012) for {'criterion': 'log_loss', 'max_depth': 19, 'max_features': 'sqrt'}\n",
      "0.812 (+/-0.014) for {'criterion': 'log_loss', 'max_depth': 19, 'max_features': 'log2'}\n",
      "0.812 (+/-0.009) for {'criterion': 'log_loss', 'max_depth': 20, 'max_features': 'auto'}\n",
      "0.814 (+/-0.004) for {'criterion': 'log_loss', 'max_depth': 20, 'max_features': 'sqrt'}\n",
      "0.813 (+/-0.004) for {'criterion': 'log_loss', 'max_depth': 20, 'max_features': 'log2'}\n",
      "0.818 (+/-0.006) for {'criterion': 'log_loss', 'max_depth': 21, 'max_features': 'auto'}\n",
      "0.822 (+/-0.006) for {'criterion': 'log_loss', 'max_depth': 21, 'max_features': 'sqrt'}\n",
      "0.810 (+/-0.014) for {'criterion': 'log_loss', 'max_depth': 21, 'max_features': 'log2'}\n",
      "0.812 (+/-0.013) for {'criterion': 'log_loss', 'max_depth': 22, 'max_features': 'auto'}\n",
      "0.813 (+/-0.013) for {'criterion': 'log_loss', 'max_depth': 22, 'max_features': 'sqrt'}\n",
      "0.812 (+/-0.014) for {'criterion': 'log_loss', 'max_depth': 22, 'max_features': 'log2'}\n",
      "0.815 (+/-0.006) for {'criterion': 'log_loss', 'max_depth': 23, 'max_features': 'auto'}\n",
      "0.812 (+/-0.006) for {'criterion': 'log_loss', 'max_depth': 23, 'max_features': 'sqrt'}\n",
      "0.807 (+/-0.015) for {'criterion': 'log_loss', 'max_depth': 23, 'max_features': 'log2'}\n",
      "0.813 (+/-0.008) for {'criterion': 'log_loss', 'max_depth': 24, 'max_features': 'auto'}\n",
      "0.815 (+/-0.011) for {'criterion': 'log_loss', 'max_depth': 24, 'max_features': 'sqrt'}\n",
      "0.808 (+/-0.009) for {'criterion': 'log_loss', 'max_depth': 24, 'max_features': 'log2'}\n"
     ]
    }
   ],
   "source": [
    "# hyperparameters to tune\n",
    "tuned_parameters = [{'criterion':['gini', 'entropy','log_loss'], \n",
    "                     'max_depth': range(10,25), \n",
    "                     'max_features' : ['auto', 'sqrt', 'log2']}] \n",
    "# grid search model\n",
    "clf_DTC = GridSearchCV(DecisionTreeClassifier(), tuned_parameters, \n",
    "                   verbose=1, n_jobs=-1) \n",
    " # evaluate hyper-parameters\n",
    "clf_DTC.fit(xr_train, yr_train)\n",
    "\n",
    "# best hyperparameter values\n",
    "print(\"\\nBest parameters found:\")\n",
    "print(clf_DTC.best_params_) \n",
    "\n",
    "print(\"\\nGrid scores:\")\n",
    "means_DTC = clf_DTC.cv_results_['mean_test_score'] # mean accuracy with folds\n",
    "stds_DTC = clf_DTC.cv_results_['std_test_score'] # standard deviation of accuracies\n",
    "\n",
    "# for each hyperparameter combination show mean +/- 2 standard-deviations \n",
    "for mean, std, params in zip(means_DTC, stds_DTC, clf_DTC.cv_results_['params']):\n",
    "    print(\"%0.3f (+/-%0.03f) for %r\" %(mean, std * 2, params)) "
   ]
  },
  {
   "cell_type": "code",
   "execution_count": 22,
   "id": "50b31621",
   "metadata": {},
   "outputs": [
    {
     "name": "stdout",
     "output_type": "stream",
     "text": [
      "DecisionTreeClassifier(criterion='log_loss', max_depth=21, max_features='sqrt',\n",
      "                       random_state=11)\n",
      "Results on test data\n",
      "Test accuracy =  0.8199\n",
      "Test precision =  0.8587\n",
      "Test recall =  0.8363\n",
      "Classification report:\n",
      "              precision    recall  f1-score   support\n",
      "\n",
      "           0       0.77      0.80      0.78      5642\n",
      "           1       0.86      0.84      0.85      8387\n",
      "\n",
      "    accuracy                           0.82     14029\n",
      "   macro avg       0.81      0.82      0.81     14029\n",
      "weighted avg       0.82      0.82      0.82     14029\n",
      "\n",
      "Confusion matrix (Rows actual, Columns predicted):\n",
      "      0     1\n",
      "0  4488  1154\n",
      "1  1373  7014\n",
      "\n",
      "ROC curve\n"
     ]
    },
    {
     "data": {
      "image/png": "[encoded data removed]",
      "text/plain": [
       "<Figure size 640x480 with 1 Axes>"
      ]
     },
     "metadata": {},
     "output_type": "display_data"
    }
   ],
   "source": [
    "# Train and test model using hyper-parameters\n",
    "good_model_DTC = DecisionTreeClassifier(criterion= 'log_loss', max_features='sqrt',\n",
    "                                        max_depth =  21, random_state = 11)\n",
    "\n",
    "# create model \n",
    "print(good_model_DTC) # display model parameters\n",
    "good_model_DTC.fit(xr_train, yr_train) # train model\n",
    "pred_DTC = good_model_DTC.predict(xr_test) # predicted output for test examples\n",
    "\n",
    "# print results\n",
    "print(\"Results on test data\")\n",
    "acc_DTC = accuracy_score(yr_test, pred_DTC) # accuracy on test examples\n",
    "prec_DTC = precision_score(yr_test, pred_DTC) # precision on test examples\n",
    "reca_DTC = recall_score(yr_test, pred_DTC) # recall on test examples\n",
    "print(f'Test accuracy = {acc_DTC: .4f}') # round to 4 decimal places\n",
    "print(f'Test precision = {prec_DTC: .4f}') # round to 4 decimal places\n",
    "print(f'Test recall = {reca_DTC: .4f}') # round to 4 decimal places\n",
    "\n",
    "# print Classification report\n",
    "print(\"Classification report:\")\n",
    "print(classification_report(yr_test, pred_DTC))\n",
    "\n",
    "# print Confusion matrix\n",
    "print(\"Confusion matrix (Rows actual, Columns predicted):\")\n",
    "print(pd.DataFrame(confusion_matrix(yr_test, pred_DTC)))\n",
    "\n",
    "# print ROC curve\n",
    "print('\\nROC curve')\n",
    "plot_roc_curve(good_model_DTC, xr_test, yr_test)  # \n",
    "plt.show()"
   ]
  },
  {
   "cell_type": "markdown",
   "id": "41f6e6d1",
   "metadata": {},
   "source": [
    "## Random Forest model"
   ]
  },
  {
   "cell_type": "code",
   "execution_count": 23,
   "id": "081d691e",
   "metadata": {},
   "outputs": [
    {
     "data": {
      "text/html": [
       "<style>#sk-container-id-3 {color: black;background-color: white;}#sk-container-id-3 pre{padding: 0;}#sk-container-id-3 div.sk-toggleable {background-color: white;}#sk-container-id-3 label.sk-toggleable__label {cursor: pointer;display: block;width: 100%;margin-bottom: 0;padding: 0.3em;box-sizing: border-box;text-align: center;}#sk-container-id-3 label.sk-toggleable__label-arrow:before {content: \"▸\";float: left;margin-right: 0.25em;color: #696969;}#sk-container-id-3 label.sk-toggleable__label-arrow:hover:before {color: black;}#sk-container-id-3 div.sk-estimator:hover label.sk-toggleable__label-arrow:before {color: black;}#sk-container-id-3 div.sk-toggleable__content {max-height: 0;max-width: 0;overflow: hidden;text-align: left;background-color: #f0f8ff;}#sk-container-id-3 div.sk-toggleable__content pre {margin: 0.2em;color: black;border-radius: 0.25em;background-color: #f0f8ff;}#sk-container-id-3 input.sk-toggleable__control:checked~div.sk-toggleable__content {max-height: 200px;max-width: 100%;overflow: auto;}#sk-container-id-3 input.sk-toggleable__control:checked~label.sk-toggleable__label-arrow:before {content: \"▾\";}#sk-container-id-3 div.sk-estimator input.sk-toggleable__control:checked~label.sk-toggleable__label {background-color: #d4ebff;}#sk-container-id-3 div.sk-label input.sk-toggleable__control:checked~label.sk-toggleable__label {background-color: #d4ebff;}#sk-container-id-3 input.sk-hidden--visually {border: 0;clip: rect(1px 1px 1px 1px);clip: rect(1px, 1px, 1px, 1px);height: 1px;margin: -1px;overflow: hidden;padding: 0;position: absolute;width: 1px;}#sk-container-id-3 div.sk-estimator {font-family: monospace;background-color: #f0f8ff;border: 1px dotted black;border-radius: 0.25em;box-sizing: border-box;margin-bottom: 0.5em;}#sk-container-id-3 div.sk-estimator:hover {background-color: #d4ebff;}#sk-container-id-3 div.sk-parallel-item::after {content: \"\";width: 100%;border-bottom: 1px solid gray;flex-grow: 1;}#sk-container-id-3 div.sk-label:hover label.sk-toggleable__label {background-color: #d4ebff;}#sk-container-id-3 div.sk-serial::before {content: \"\";position: absolute;border-left: 1px solid gray;box-sizing: border-box;top: 0;bottom: 0;left: 50%;z-index: 0;}#sk-container-id-3 div.sk-serial {display: flex;flex-direction: column;align-items: center;background-color: white;padding-right: 0.2em;padding-left: 0.2em;position: relative;}#sk-container-id-3 div.sk-item {position: relative;z-index: 1;}#sk-container-id-3 div.sk-parallel {display: flex;align-items: stretch;justify-content: center;background-color: white;position: relative;}#sk-container-id-3 div.sk-item::before, #sk-container-id-3 div.sk-parallel-item::before {content: \"\";position: absolute;border-left: 1px solid gray;box-sizing: border-box;top: 0;bottom: 0;left: 50%;z-index: -1;}#sk-container-id-3 div.sk-parallel-item {display: flex;flex-direction: column;z-index: 1;position: relative;background-color: white;}#sk-container-id-3 div.sk-parallel-item:first-child::after {align-self: flex-end;width: 50%;}#sk-container-id-3 div.sk-parallel-item:last-child::after {align-self: flex-start;width: 50%;}#sk-container-id-3 div.sk-parallel-item:only-child::after {width: 0;}#sk-container-id-3 div.sk-dashed-wrapped {border: 1px dashed gray;margin: 0 0.4em 0.5em 0.4em;box-sizing: border-box;padding-bottom: 0.4em;background-color: white;}#sk-container-id-3 div.sk-label label {font-family: monospace;font-weight: bold;display: inline-block;line-height: 1.2em;}#sk-container-id-3 div.sk-label-container {text-align: center;}#sk-container-id-3 div.sk-container {/* jupyter's `normalize.less` sets `[hidden] { display: none; }` but bootstrap.min.css set `[hidden] { display: none !important; }` so we also need the `!important` here to be able to override the default hidden behavior on the sphinx rendered scikit-learn.org. See: https://github.com/scikit-learn/scikit-learn/issues/21755 */display: inline-block !important;position: relative;}#sk-container-id-3 div.sk-text-repr-fallback {display: none;}</style><div id=\"sk-container-id-3\" class=\"sk-top-container\"><div class=\"sk-text-repr-fallback\"><pre>RandomForestClassifier()</pre><b>In a Jupyter environment, please rerun this cell to show the HTML representation or trust the notebook. <br />On GitHub, the HTML representation is unable to render, please try loading this page with nbviewer.org.</b></div><div class=\"sk-container\" hidden><div class=\"sk-item\"><div class=\"sk-estimator sk-toggleable\"><input class=\"sk-toggleable__control sk-hidden--visually\" id=\"sk-estimator-id-3\" type=\"checkbox\" checked><label for=\"sk-estimator-id-3\" class=\"sk-toggleable__label sk-toggleable__label-arrow\">RandomForestClassifier</label><div class=\"sk-toggleable__content\"><pre>RandomForestClassifier()</pre></div></div></div></div></div>"
      ],
      "text/plain": [
       "RandomForestClassifier()"
      ]
     },
     "execution_count": 23,
     "metadata": {},
     "output_type": "execute_result"
    }
   ],
   "source": [
    "modelRF = RandomForestClassifier()\n",
    "modelRF.fit(xr_train, yr_train) "
   ]
  },
  {
   "cell_type": "code",
   "execution_count": 24,
   "id": "93cece2d",
   "metadata": {},
   "outputs": [],
   "source": [
    "pred_train = modelRF.predict(xr_train)\n",
    "pred_test=modelRF.predict(xr_test)"
   ]
  },
  {
   "cell_type": "code",
   "execution_count": 25,
   "id": "5d88bf49",
   "metadata": {},
   "outputs": [
    {
     "name": "stdout",
     "output_type": "stream",
     "text": [
      "Training accuracy  1.000\n",
      "Testing accuracy  0.851\n"
     ]
    }
   ],
   "source": [
    "acc_train = accuracy_score(pred_train, yr_train)\n",
    "acc_test = accuracy_score(pred_test, yr_test)\n",
    "print(f'Training accuracy {acc_train: .3f}') \n",
    "print(f'Testing accuracy {acc_test: .3f}')"
   ]
  },
  {
   "cell_type": "markdown",
   "id": "114e6eb5",
   "metadata": {},
   "source": [
    "#### Tuning the Parameters"
   ]
  },
  {
   "cell_type": "code",
   "execution_count": 26,
   "id": "640eb769",
   "metadata": {},
   "outputs": [
    {
     "name": "stdout",
     "output_type": "stream",
     "text": [
      "Fitting 5 folds for each of 270 candidates, totalling 1350 fits\n",
      "\n",
      "Best parameters found:\n",
      "{'criterion': 'log_loss', 'max_depth': 12, 'max_features': 'auto', 'n_estimators': 75}\n",
      "\n",
      "Grid scores:\n",
      "0.873 (+/-0.005) for {'criterion': 'log_loss', 'max_depth': 10, 'max_features': 'auto', 'n_estimators': 25}\n",
      "0.877 (+/-0.010) for {'criterion': 'log_loss', 'max_depth': 10, 'max_features': 'auto', 'n_estimators': 50}\n",
      "0.875 (+/-0.008) for {'criterion': 'log_loss', 'max_depth': 10, 'max_features': 'auto', 'n_estimators': 75}\n",
      "0.876 (+/-0.006) for {'criterion': 'log_loss', 'max_depth': 10, 'max_features': 'sqrt', 'n_estimators': 25}\n",
      "0.875 (+/-0.015) for {'criterion': 'log_loss', 'max_depth': 10, 'max_features': 'sqrt', 'n_estimators': 50}\n",
      "0.876 (+/-0.008) for {'criterion': 'log_loss', 'max_depth': 10, 'max_features': 'sqrt', 'n_estimators': 75}\n",
      "0.878 (+/-0.013) for {'criterion': 'log_loss', 'max_depth': 11, 'max_features': 'auto', 'n_estimators': 25}\n",
      "0.879 (+/-0.008) for {'criterion': 'log_loss', 'max_depth': 11, 'max_features': 'auto', 'n_estimators': 50}\n",
      "0.880 (+/-0.006) for {'criterion': 'log_loss', 'max_depth': 11, 'max_features': 'auto', 'n_estimators': 75}\n",
      "0.876 (+/-0.013) for {'criterion': 'log_loss', 'max_depth': 11, 'max_features': 'sqrt', 'n_estimators': 25}\n",
      "0.880 (+/-0.008) for {'criterion': 'log_loss', 'max_depth': 11, 'max_features': 'sqrt', 'n_estimators': 50}\n",
      "0.881 (+/-0.008) for {'criterion': 'log_loss', 'max_depth': 11, 'max_features': 'sqrt', 'n_estimators': 75}\n",
      "0.879 (+/-0.007) for {'criterion': 'log_loss', 'max_depth': 12, 'max_features': 'auto', 'n_estimators': 25}\n",
      "0.880 (+/-0.005) for {'criterion': 'log_loss', 'max_depth': 12, 'max_features': 'auto', 'n_estimators': 50}\n",
      "0.883 (+/-0.009) for {'criterion': 'log_loss', 'max_depth': 12, 'max_features': 'auto', 'n_estimators': 75}\n",
      "0.879 (+/-0.009) for {'criterion': 'log_loss', 'max_depth': 12, 'max_features': 'sqrt', 'n_estimators': 25}\n",
      "0.882 (+/-0.007) for {'criterion': 'log_loss', 'max_depth': 12, 'max_features': 'sqrt', 'n_estimators': 50}\n",
      "0.882 (+/-0.009) for {'criterion': 'log_loss', 'max_depth': 12, 'max_features': 'sqrt', 'n_estimators': 75}\n",
      "0.877 (+/-0.011) for {'criterion': 'log_loss', 'max_depth': 13, 'max_features': 'auto', 'n_estimators': 25}\n",
      "0.881 (+/-0.009) for {'criterion': 'log_loss', 'max_depth': 13, 'max_features': 'auto', 'n_estimators': 50}\n",
      "0.883 (+/-0.009) for {'criterion': 'log_loss', 'max_depth': 13, 'max_features': 'auto', 'n_estimators': 75}\n",
      "0.878 (+/-0.011) for {'criterion': 'log_loss', 'max_depth': 13, 'max_features': 'sqrt', 'n_estimators': 25}\n",
      "0.881 (+/-0.007) for {'criterion': 'log_loss', 'max_depth': 13, 'max_features': 'sqrt', 'n_estimators': 50}\n",
      "0.881 (+/-0.009) for {'criterion': 'log_loss', 'max_depth': 13, 'max_features': 'sqrt', 'n_estimators': 75}\n",
      "0.877 (+/-0.005) for {'criterion': 'log_loss', 'max_depth': 14, 'max_features': 'auto', 'n_estimators': 25}\n",
      "0.878 (+/-0.007) for {'criterion': 'log_loss', 'max_depth': 14, 'max_features': 'auto', 'n_estimators': 50}\n",
      "0.881 (+/-0.007) for {'criterion': 'log_loss', 'max_depth': 14, 'max_features': 'auto', 'n_estimators': 75}\n",
      "0.876 (+/-0.005) for {'criterion': 'log_loss', 'max_depth': 14, 'max_features': 'sqrt', 'n_estimators': 25}\n",
      "0.878 (+/-0.009) for {'criterion': 'log_loss', 'max_depth': 14, 'max_features': 'sqrt', 'n_estimators': 50}\n",
      "0.879 (+/-0.007) for {'criterion': 'log_loss', 'max_depth': 14, 'max_features': 'sqrt', 'n_estimators': 75}\n",
      "0.871 (+/-0.005) for {'criterion': 'log_loss', 'max_depth': 15, 'max_features': 'auto', 'n_estimators': 25}\n",
      "0.875 (+/-0.006) for {'criterion': 'log_loss', 'max_depth': 15, 'max_features': 'auto', 'n_estimators': 50}\n",
      "0.876 (+/-0.006) for {'criterion': 'log_loss', 'max_depth': 15, 'max_features': 'auto', 'n_estimators': 75}\n",
      "0.872 (+/-0.004) for {'criterion': 'log_loss', 'max_depth': 15, 'max_features': 'sqrt', 'n_estimators': 25}\n",
      "0.876 (+/-0.008) for {'criterion': 'log_loss', 'max_depth': 15, 'max_features': 'sqrt', 'n_estimators': 50}\n",
      "0.876 (+/-0.007) for {'criterion': 'log_loss', 'max_depth': 15, 'max_features': 'sqrt', 'n_estimators': 75}\n",
      "0.870 (+/-0.005) for {'criterion': 'log_loss', 'max_depth': 16, 'max_features': 'auto', 'n_estimators': 25}\n",
      "0.873 (+/-0.005) for {'criterion': 'log_loss', 'max_depth': 16, 'max_features': 'auto', 'n_estimators': 50}\n",
      "0.873 (+/-0.005) for {'criterion': 'log_loss', 'max_depth': 16, 'max_features': 'auto', 'n_estimators': 75}\n",
      "0.870 (+/-0.007) for {'criterion': 'log_loss', 'max_depth': 16, 'max_features': 'sqrt', 'n_estimators': 25}\n",
      "0.872 (+/-0.008) for {'criterion': 'log_loss', 'max_depth': 16, 'max_features': 'sqrt', 'n_estimators': 50}\n",
      "0.873 (+/-0.006) for {'criterion': 'log_loss', 'max_depth': 16, 'max_features': 'sqrt', 'n_estimators': 75}\n",
      "0.868 (+/-0.006) for {'criterion': 'log_loss', 'max_depth': 17, 'max_features': 'auto', 'n_estimators': 25}\n",
      "0.869 (+/-0.008) for {'criterion': 'log_loss', 'max_depth': 17, 'max_features': 'auto', 'n_estimators': 50}\n",
      "0.870 (+/-0.005) for {'criterion': 'log_loss', 'max_depth': 17, 'max_features': 'auto', 'n_estimators': 75}\n",
      "0.867 (+/-0.007) for {'criterion': 'log_loss', 'max_depth': 17, 'max_features': 'sqrt', 'n_estimators': 25}\n",
      "0.868 (+/-0.006) for {'criterion': 'log_loss', 'max_depth': 17, 'max_features': 'sqrt', 'n_estimators': 50}\n",
      "0.871 (+/-0.008) for {'criterion': 'log_loss', 'max_depth': 17, 'max_features': 'sqrt', 'n_estimators': 75}\n",
      "0.863 (+/-0.010) for {'criterion': 'log_loss', 'max_depth': 18, 'max_features': 'auto', 'n_estimators': 25}\n",
      "0.865 (+/-0.003) for {'criterion': 'log_loss', 'max_depth': 18, 'max_features': 'auto', 'n_estimators': 50}\n",
      "0.866 (+/-0.005) for {'criterion': 'log_loss', 'max_depth': 18, 'max_features': 'auto', 'n_estimators': 75}\n",
      "0.865 (+/-0.003) for {'criterion': 'log_loss', 'max_depth': 18, 'max_features': 'sqrt', 'n_estimators': 25}\n",
      "0.866 (+/-0.003) for {'criterion': 'log_loss', 'max_depth': 18, 'max_features': 'sqrt', 'n_estimators': 50}\n",
      "0.866 (+/-0.004) for {'criterion': 'log_loss', 'max_depth': 18, 'max_features': 'sqrt', 'n_estimators': 75}\n",
      "0.862 (+/-0.005) for {'criterion': 'log_loss', 'max_depth': 19, 'max_features': 'auto', 'n_estimators': 25}\n",
      "0.862 (+/-0.005) for {'criterion': 'log_loss', 'max_depth': 19, 'max_features': 'auto', 'n_estimators': 50}\n",
      "0.865 (+/-0.006) for {'criterion': 'log_loss', 'max_depth': 19, 'max_features': 'auto', 'n_estimators': 75}\n",
      "0.862 (+/-0.007) for {'criterion': 'log_loss', 'max_depth': 19, 'max_features': 'sqrt', 'n_estimators': 25}\n",
      "0.864 (+/-0.002) for {'criterion': 'log_loss', 'max_depth': 19, 'max_features': 'sqrt', 'n_estimators': 50}\n",
      "0.863 (+/-0.003) for {'criterion': 'log_loss', 'max_depth': 19, 'max_features': 'sqrt', 'n_estimators': 75}\n",
      "0.859 (+/-0.002) for {'criterion': 'log_loss', 'max_depth': 20, 'max_features': 'auto', 'n_estimators': 25}\n",
      "0.862 (+/-0.004) for {'criterion': 'log_loss', 'max_depth': 20, 'max_features': 'auto', 'n_estimators': 50}\n",
      "0.861 (+/-0.002) for {'criterion': 'log_loss', 'max_depth': 20, 'max_features': 'auto', 'n_estimators': 75}\n",
      "0.860 (+/-0.004) for {'criterion': 'log_loss', 'max_depth': 20, 'max_features': 'sqrt', 'n_estimators': 25}\n",
      "0.863 (+/-0.003) for {'criterion': 'log_loss', 'max_depth': 20, 'max_features': 'sqrt', 'n_estimators': 50}\n",
      "0.862 (+/-0.004) for {'criterion': 'log_loss', 'max_depth': 20, 'max_features': 'sqrt', 'n_estimators': 75}\n",
      "0.859 (+/-0.005) for {'criterion': 'log_loss', 'max_depth': 21, 'max_features': 'auto', 'n_estimators': 25}\n",
      "0.859 (+/-0.005) for {'criterion': 'log_loss', 'max_depth': 21, 'max_features': 'auto', 'n_estimators': 50}\n",
      "0.861 (+/-0.003) for {'criterion': 'log_loss', 'max_depth': 21, 'max_features': 'auto', 'n_estimators': 75}\n",
      "0.859 (+/-0.002) for {'criterion': 'log_loss', 'max_depth': 21, 'max_features': 'sqrt', 'n_estimators': 25}\n",
      "0.862 (+/-0.004) for {'criterion': 'log_loss', 'max_depth': 21, 'max_features': 'sqrt', 'n_estimators': 50}\n",
      "0.860 (+/-0.006) for {'criterion': 'log_loss', 'max_depth': 21, 'max_features': 'sqrt', 'n_estimators': 75}\n",
      "0.858 (+/-0.004) for {'criterion': 'log_loss', 'max_depth': 22, 'max_features': 'auto', 'n_estimators': 25}\n",
      "0.859 (+/-0.004) for {'criterion': 'log_loss', 'max_depth': 22, 'max_features': 'auto', 'n_estimators': 50}\n",
      "0.861 (+/-0.005) for {'criterion': 'log_loss', 'max_depth': 22, 'max_features': 'auto', 'n_estimators': 75}\n",
      "0.858 (+/-0.005) for {'criterion': 'log_loss', 'max_depth': 22, 'max_features': 'sqrt', 'n_estimators': 25}\n",
      "0.860 (+/-0.004) for {'criterion': 'log_loss', 'max_depth': 22, 'max_features': 'sqrt', 'n_estimators': 50}\n",
      "0.859 (+/-0.003) for {'criterion': 'log_loss', 'max_depth': 22, 'max_features': 'sqrt', 'n_estimators': 75}\n",
      "0.858 (+/-0.004) for {'criterion': 'log_loss', 'max_depth': 23, 'max_features': 'auto', 'n_estimators': 25}\n",
      "0.857 (+/-0.007) for {'criterion': 'log_loss', 'max_depth': 23, 'max_features': 'auto', 'n_estimators': 50}\n",
      "0.858 (+/-0.004) for {'criterion': 'log_loss', 'max_depth': 23, 'max_features': 'auto', 'n_estimators': 75}\n",
      "0.857 (+/-0.003) for {'criterion': 'log_loss', 'max_depth': 23, 'max_features': 'sqrt', 'n_estimators': 25}\n",
      "0.858 (+/-0.005) for {'criterion': 'log_loss', 'max_depth': 23, 'max_features': 'sqrt', 'n_estimators': 50}\n",
      "0.860 (+/-0.004) for {'criterion': 'log_loss', 'max_depth': 23, 'max_features': 'sqrt', 'n_estimators': 75}\n",
      "0.857 (+/-0.003) for {'criterion': 'log_loss', 'max_depth': 24, 'max_features': 'auto', 'n_estimators': 25}\n",
      "0.859 (+/-0.003) for {'criterion': 'log_loss', 'max_depth': 24, 'max_features': 'auto', 'n_estimators': 50}\n",
      "0.857 (+/-0.004) for {'criterion': 'log_loss', 'max_depth': 24, 'max_features': 'auto', 'n_estimators': 75}\n",
      "0.857 (+/-0.003) for {'criterion': 'log_loss', 'max_depth': 24, 'max_features': 'sqrt', 'n_estimators': 25}\n",
      "0.857 (+/-0.006) for {'criterion': 'log_loss', 'max_depth': 24, 'max_features': 'sqrt', 'n_estimators': 50}\n",
      "0.857 (+/-0.003) for {'criterion': 'log_loss', 'max_depth': 24, 'max_features': 'sqrt', 'n_estimators': 75}\n",
      "0.874 (+/-0.009) for {'criterion': 'gini', 'max_depth': 10, 'max_features': 'auto', 'n_estimators': 25}\n",
      "0.873 (+/-0.013) for {'criterion': 'gini', 'max_depth': 10, 'max_features': 'auto', 'n_estimators': 50}\n",
      "0.874 (+/-0.012) for {'criterion': 'gini', 'max_depth': 10, 'max_features': 'auto', 'n_estimators': 75}\n",
      "0.867 (+/-0.006) for {'criterion': 'gini', 'max_depth': 10, 'max_features': 'sqrt', 'n_estimators': 25}\n",
      "0.874 (+/-0.007) for {'criterion': 'gini', 'max_depth': 10, 'max_features': 'sqrt', 'n_estimators': 50}\n",
      "0.876 (+/-0.010) for {'criterion': 'gini', 'max_depth': 10, 'max_features': 'sqrt', 'n_estimators': 75}\n",
      "0.875 (+/-0.013) for {'criterion': 'gini', 'max_depth': 11, 'max_features': 'auto', 'n_estimators': 25}\n",
      "0.879 (+/-0.007) for {'criterion': 'gini', 'max_depth': 11, 'max_features': 'auto', 'n_estimators': 50}\n",
      "0.879 (+/-0.012) for {'criterion': 'gini', 'max_depth': 11, 'max_features': 'auto', 'n_estimators': 75}\n",
      "0.873 (+/-0.015) for {'criterion': 'gini', 'max_depth': 11, 'max_features': 'sqrt', 'n_estimators': 25}\n",
      "0.877 (+/-0.010) for {'criterion': 'gini', 'max_depth': 11, 'max_features': 'sqrt', 'n_estimators': 50}\n",
      "0.879 (+/-0.008) for {'criterion': 'gini', 'max_depth': 11, 'max_features': 'sqrt', 'n_estimators': 75}\n",
      "0.874 (+/-0.005) for {'criterion': 'gini', 'max_depth': 12, 'max_features': 'auto', 'n_estimators': 25}\n",
      "0.880 (+/-0.006) for {'criterion': 'gini', 'max_depth': 12, 'max_features': 'auto', 'n_estimators': 50}\n",
      "0.880 (+/-0.009) for {'criterion': 'gini', 'max_depth': 12, 'max_features': 'auto', 'n_estimators': 75}\n",
      "0.876 (+/-0.006) for {'criterion': 'gini', 'max_depth': 12, 'max_features': 'sqrt', 'n_estimators': 25}\n",
      "0.878 (+/-0.006) for {'criterion': 'gini', 'max_depth': 12, 'max_features': 'sqrt', 'n_estimators': 50}\n",
      "0.879 (+/-0.008) for {'criterion': 'gini', 'max_depth': 12, 'max_features': 'sqrt', 'n_estimators': 75}\n",
      "0.875 (+/-0.007) for {'criterion': 'gini', 'max_depth': 13, 'max_features': 'auto', 'n_estimators': 25}\n",
      "0.877 (+/-0.007) for {'criterion': 'gini', 'max_depth': 13, 'max_features': 'auto', 'n_estimators': 50}\n",
      "0.881 (+/-0.006) for {'criterion': 'gini', 'max_depth': 13, 'max_features': 'auto', 'n_estimators': 75}\n",
      "0.875 (+/-0.012) for {'criterion': 'gini', 'max_depth': 13, 'max_features': 'sqrt', 'n_estimators': 25}\n",
      "0.876 (+/-0.006) for {'criterion': 'gini', 'max_depth': 13, 'max_features': 'sqrt', 'n_estimators': 50}\n",
      "0.878 (+/-0.006) for {'criterion': 'gini', 'max_depth': 13, 'max_features': 'sqrt', 'n_estimators': 75}\n",
      "0.873 (+/-0.006) for {'criterion': 'gini', 'max_depth': 14, 'max_features': 'auto', 'n_estimators': 25}\n",
      "0.874 (+/-0.007) for {'criterion': 'gini', 'max_depth': 14, 'max_features': 'auto', 'n_estimators': 50}\n",
      "0.876 (+/-0.005) for {'criterion': 'gini', 'max_depth': 14, 'max_features': 'auto', 'n_estimators': 75}\n",
      "0.871 (+/-0.008) for {'criterion': 'gini', 'max_depth': 14, 'max_features': 'sqrt', 'n_estimators': 25}\n",
      "0.875 (+/-0.004) for {'criterion': 'gini', 'max_depth': 14, 'max_features': 'sqrt', 'n_estimators': 50}\n",
      "0.875 (+/-0.006) for {'criterion': 'gini', 'max_depth': 14, 'max_features': 'sqrt', 'n_estimators': 75}\n",
      "0.868 (+/-0.006) for {'criterion': 'gini', 'max_depth': 15, 'max_features': 'auto', 'n_estimators': 25}\n",
      "0.871 (+/-0.005) for {'criterion': 'gini', 'max_depth': 15, 'max_features': 'auto', 'n_estimators': 50}\n",
      "0.872 (+/-0.004) for {'criterion': 'gini', 'max_depth': 15, 'max_features': 'auto', 'n_estimators': 75}\n",
      "0.870 (+/-0.008) for {'criterion': 'gini', 'max_depth': 15, 'max_features': 'sqrt', 'n_estimators': 25}\n",
      "0.872 (+/-0.004) for {'criterion': 'gini', 'max_depth': 15, 'max_features': 'sqrt', 'n_estimators': 50}\n",
      "0.873 (+/-0.005) for {'criterion': 'gini', 'max_depth': 15, 'max_features': 'sqrt', 'n_estimators': 75}\n",
      "0.867 (+/-0.007) for {'criterion': 'gini', 'max_depth': 16, 'max_features': 'auto', 'n_estimators': 25}\n",
      "0.868 (+/-0.006) for {'criterion': 'gini', 'max_depth': 16, 'max_features': 'auto', 'n_estimators': 50}\n",
      "0.869 (+/-0.005) for {'criterion': 'gini', 'max_depth': 16, 'max_features': 'auto', 'n_estimators': 75}\n",
      "0.866 (+/-0.005) for {'criterion': 'gini', 'max_depth': 16, 'max_features': 'sqrt', 'n_estimators': 25}\n",
      "0.868 (+/-0.005) for {'criterion': 'gini', 'max_depth': 16, 'max_features': 'sqrt', 'n_estimators': 50}\n",
      "0.870 (+/-0.004) for {'criterion': 'gini', 'max_depth': 16, 'max_features': 'sqrt', 'n_estimators': 75}\n",
      "0.863 (+/-0.007) for {'criterion': 'gini', 'max_depth': 17, 'max_features': 'auto', 'n_estimators': 25}\n",
      "0.866 (+/-0.003) for {'criterion': 'gini', 'max_depth': 17, 'max_features': 'auto', 'n_estimators': 50}\n",
      "0.865 (+/-0.003) for {'criterion': 'gini', 'max_depth': 17, 'max_features': 'auto', 'n_estimators': 75}\n",
      "0.862 (+/-0.007) for {'criterion': 'gini', 'max_depth': 17, 'max_features': 'sqrt', 'n_estimators': 25}\n",
      "0.865 (+/-0.003) for {'criterion': 'gini', 'max_depth': 17, 'max_features': 'sqrt', 'n_estimators': 50}\n",
      "0.865 (+/-0.005) for {'criterion': 'gini', 'max_depth': 17, 'max_features': 'sqrt', 'n_estimators': 75}\n",
      "0.863 (+/-0.002) for {'criterion': 'gini', 'max_depth': 18, 'max_features': 'auto', 'n_estimators': 25}\n",
      "0.864 (+/-0.004) for {'criterion': 'gini', 'max_depth': 18, 'max_features': 'auto', 'n_estimators': 50}\n",
      "0.862 (+/-0.005) for {'criterion': 'gini', 'max_depth': 18, 'max_features': 'auto', 'n_estimators': 75}\n",
      "0.860 (+/-0.003) for {'criterion': 'gini', 'max_depth': 18, 'max_features': 'sqrt', 'n_estimators': 25}\n",
      "0.862 (+/-0.002) for {'criterion': 'gini', 'max_depth': 18, 'max_features': 'sqrt', 'n_estimators': 50}\n",
      "0.864 (+/-0.004) for {'criterion': 'gini', 'max_depth': 18, 'max_features': 'sqrt', 'n_estimators': 75}\n",
      "0.860 (+/-0.006) for {'criterion': 'gini', 'max_depth': 19, 'max_features': 'auto', 'n_estimators': 25}\n",
      "0.861 (+/-0.004) for {'criterion': 'gini', 'max_depth': 19, 'max_features': 'auto', 'n_estimators': 50}\n",
      "0.861 (+/-0.003) for {'criterion': 'gini', 'max_depth': 19, 'max_features': 'auto', 'n_estimators': 75}\n",
      "0.858 (+/-0.004) for {'criterion': 'gini', 'max_depth': 19, 'max_features': 'sqrt', 'n_estimators': 25}\n",
      "0.861 (+/-0.003) for {'criterion': 'gini', 'max_depth': 19, 'max_features': 'sqrt', 'n_estimators': 50}\n",
      "0.861 (+/-0.005) for {'criterion': 'gini', 'max_depth': 19, 'max_features': 'sqrt', 'n_estimators': 75}\n",
      "0.858 (+/-0.006) for {'criterion': 'gini', 'max_depth': 20, 'max_features': 'auto', 'n_estimators': 25}\n",
      "0.858 (+/-0.004) for {'criterion': 'gini', 'max_depth': 20, 'max_features': 'auto', 'n_estimators': 50}\n",
      "0.860 (+/-0.006) for {'criterion': 'gini', 'max_depth': 20, 'max_features': 'auto', 'n_estimators': 75}\n",
      "0.857 (+/-0.003) for {'criterion': 'gini', 'max_depth': 20, 'max_features': 'sqrt', 'n_estimators': 25}\n",
      "0.858 (+/-0.005) for {'criterion': 'gini', 'max_depth': 20, 'max_features': 'sqrt', 'n_estimators': 50}\n",
      "0.859 (+/-0.005) for {'criterion': 'gini', 'max_depth': 20, 'max_features': 'sqrt', 'n_estimators': 75}\n",
      "0.858 (+/-0.005) for {'criterion': 'gini', 'max_depth': 21, 'max_features': 'auto', 'n_estimators': 25}\n",
      "0.856 (+/-0.005) for {'criterion': 'gini', 'max_depth': 21, 'max_features': 'auto', 'n_estimators': 50}\n",
      "0.857 (+/-0.004) for {'criterion': 'gini', 'max_depth': 21, 'max_features': 'auto', 'n_estimators': 75}\n",
      "0.856 (+/-0.008) for {'criterion': 'gini', 'max_depth': 21, 'max_features': 'sqrt', 'n_estimators': 25}\n",
      "0.859 (+/-0.003) for {'criterion': 'gini', 'max_depth': 21, 'max_features': 'sqrt', 'n_estimators': 50}\n",
      "0.857 (+/-0.003) for {'criterion': 'gini', 'max_depth': 21, 'max_features': 'sqrt', 'n_estimators': 75}\n",
      "0.856 (+/-0.005) for {'criterion': 'gini', 'max_depth': 22, 'max_features': 'auto', 'n_estimators': 25}\n",
      "0.857 (+/-0.006) for {'criterion': 'gini', 'max_depth': 22, 'max_features': 'auto', 'n_estimators': 50}\n",
      "0.857 (+/-0.003) for {'criterion': 'gini', 'max_depth': 22, 'max_features': 'auto', 'n_estimators': 75}\n",
      "0.857 (+/-0.006) for {'criterion': 'gini', 'max_depth': 22, 'max_features': 'sqrt', 'n_estimators': 25}\n",
      "0.856 (+/-0.005) for {'criterion': 'gini', 'max_depth': 22, 'max_features': 'sqrt', 'n_estimators': 50}\n",
      "0.857 (+/-0.006) for {'criterion': 'gini', 'max_depth': 22, 'max_features': 'sqrt', 'n_estimators': 75}\n",
      "0.856 (+/-0.002) for {'criterion': 'gini', 'max_depth': 23, 'max_features': 'auto', 'n_estimators': 25}\n",
      "0.856 (+/-0.002) for {'criterion': 'gini', 'max_depth': 23, 'max_features': 'auto', 'n_estimators': 50}\n",
      "0.857 (+/-0.004) for {'criterion': 'gini', 'max_depth': 23, 'max_features': 'auto', 'n_estimators': 75}\n",
      "0.856 (+/-0.007) for {'criterion': 'gini', 'max_depth': 23, 'max_features': 'sqrt', 'n_estimators': 25}\n",
      "0.858 (+/-0.006) for {'criterion': 'gini', 'max_depth': 23, 'max_features': 'sqrt', 'n_estimators': 50}\n",
      "0.856 (+/-0.004) for {'criterion': 'gini', 'max_depth': 23, 'max_features': 'sqrt', 'n_estimators': 75}\n",
      "0.855 (+/-0.005) for {'criterion': 'gini', 'max_depth': 24, 'max_features': 'auto', 'n_estimators': 25}\n",
      "0.857 (+/-0.004) for {'criterion': 'gini', 'max_depth': 24, 'max_features': 'auto', 'n_estimators': 50}\n",
      "0.854 (+/-0.005) for {'criterion': 'gini', 'max_depth': 24, 'max_features': 'auto', 'n_estimators': 75}\n",
      "0.856 (+/-0.004) for {'criterion': 'gini', 'max_depth': 24, 'max_features': 'sqrt', 'n_estimators': 25}\n",
      "0.856 (+/-0.004) for {'criterion': 'gini', 'max_depth': 24, 'max_features': 'sqrt', 'n_estimators': 50}\n",
      "0.856 (+/-0.002) for {'criterion': 'gini', 'max_depth': 24, 'max_features': 'sqrt', 'n_estimators': 75}\n",
      "0.872 (+/-0.006) for {'criterion': 'entropy', 'max_depth': 10, 'max_features': 'auto', 'n_estimators': 25}\n",
      "0.877 (+/-0.007) for {'criterion': 'entropy', 'max_depth': 10, 'max_features': 'auto', 'n_estimators': 50}\n",
      "0.878 (+/-0.010) for {'criterion': 'entropy', 'max_depth': 10, 'max_features': 'auto', 'n_estimators': 75}\n",
      "0.872 (+/-0.009) for {'criterion': 'entropy', 'max_depth': 10, 'max_features': 'sqrt', 'n_estimators': 25}\n",
      "0.875 (+/-0.006) for {'criterion': 'entropy', 'max_depth': 10, 'max_features': 'sqrt', 'n_estimators': 50}\n",
      "0.878 (+/-0.010) for {'criterion': 'entropy', 'max_depth': 10, 'max_features': 'sqrt', 'n_estimators': 75}\n",
      "0.876 (+/-0.006) for {'criterion': 'entropy', 'max_depth': 11, 'max_features': 'auto', 'n_estimators': 25}\n",
      "0.880 (+/-0.008) for {'criterion': 'entropy', 'max_depth': 11, 'max_features': 'auto', 'n_estimators': 50}\n",
      "0.881 (+/-0.011) for {'criterion': 'entropy', 'max_depth': 11, 'max_features': 'auto', 'n_estimators': 75}\n",
      "0.875 (+/-0.005) for {'criterion': 'entropy', 'max_depth': 11, 'max_features': 'sqrt', 'n_estimators': 25}\n",
      "0.880 (+/-0.008) for {'criterion': 'entropy', 'max_depth': 11, 'max_features': 'sqrt', 'n_estimators': 50}\n",
      "0.882 (+/-0.010) for {'criterion': 'entropy', 'max_depth': 11, 'max_features': 'sqrt', 'n_estimators': 75}\n",
      "0.878 (+/-0.007) for {'criterion': 'entropy', 'max_depth': 12, 'max_features': 'auto', 'n_estimators': 25}\n",
      "0.882 (+/-0.010) for {'criterion': 'entropy', 'max_depth': 12, 'max_features': 'auto', 'n_estimators': 50}\n",
      "0.882 (+/-0.011) for {'criterion': 'entropy', 'max_depth': 12, 'max_features': 'auto', 'n_estimators': 75}\n",
      "0.879 (+/-0.010) for {'criterion': 'entropy', 'max_depth': 12, 'max_features': 'sqrt', 'n_estimators': 25}\n",
      "0.883 (+/-0.011) for {'criterion': 'entropy', 'max_depth': 12, 'max_features': 'sqrt', 'n_estimators': 50}\n",
      "0.882 (+/-0.005) for {'criterion': 'entropy', 'max_depth': 12, 'max_features': 'sqrt', 'n_estimators': 75}\n",
      "0.876 (+/-0.005) for {'criterion': 'entropy', 'max_depth': 13, 'max_features': 'auto', 'n_estimators': 25}\n",
      "0.881 (+/-0.009) for {'criterion': 'entropy', 'max_depth': 13, 'max_features': 'auto', 'n_estimators': 50}\n",
      "0.882 (+/-0.007) for {'criterion': 'entropy', 'max_depth': 13, 'max_features': 'auto', 'n_estimators': 75}\n",
      "0.878 (+/-0.008) for {'criterion': 'entropy', 'max_depth': 13, 'max_features': 'sqrt', 'n_estimators': 25}\n",
      "0.881 (+/-0.008) for {'criterion': 'entropy', 'max_depth': 13, 'max_features': 'sqrt', 'n_estimators': 50}\n",
      "0.881 (+/-0.008) for {'criterion': 'entropy', 'max_depth': 13, 'max_features': 'sqrt', 'n_estimators': 75}\n",
      "0.874 (+/-0.007) for {'criterion': 'entropy', 'max_depth': 14, 'max_features': 'auto', 'n_estimators': 25}\n",
      "0.877 (+/-0.003) for {'criterion': 'entropy', 'max_depth': 14, 'max_features': 'auto', 'n_estimators': 50}\n",
      "0.880 (+/-0.006) for {'criterion': 'entropy', 'max_depth': 14, 'max_features': 'auto', 'n_estimators': 75}\n",
      "0.875 (+/-0.008) for {'criterion': 'entropy', 'max_depth': 14, 'max_features': 'sqrt', 'n_estimators': 25}\n",
      "0.878 (+/-0.005) for {'criterion': 'entropy', 'max_depth': 14, 'max_features': 'sqrt', 'n_estimators': 50}\n",
      "0.880 (+/-0.006) for {'criterion': 'entropy', 'max_depth': 14, 'max_features': 'sqrt', 'n_estimators': 75}\n",
      "0.872 (+/-0.008) for {'criterion': 'entropy', 'max_depth': 15, 'max_features': 'auto', 'n_estimators': 25}\n",
      "0.874 (+/-0.004) for {'criterion': 'entropy', 'max_depth': 15, 'max_features': 'auto', 'n_estimators': 50}\n",
      "0.876 (+/-0.006) for {'criterion': 'entropy', 'max_depth': 15, 'max_features': 'auto', 'n_estimators': 75}\n",
      "0.871 (+/-0.005) for {'criterion': 'entropy', 'max_depth': 15, 'max_features': 'sqrt', 'n_estimators': 25}\n",
      "0.875 (+/-0.007) for {'criterion': 'entropy', 'max_depth': 15, 'max_features': 'sqrt', 'n_estimators': 50}\n",
      "0.877 (+/-0.007) for {'criterion': 'entropy', 'max_depth': 15, 'max_features': 'sqrt', 'n_estimators': 75}\n",
      "0.870 (+/-0.002) for {'criterion': 'entropy', 'max_depth': 16, 'max_features': 'auto', 'n_estimators': 25}\n",
      "0.873 (+/-0.005) for {'criterion': 'entropy', 'max_depth': 16, 'max_features': 'auto', 'n_estimators': 50}\n",
      "0.872 (+/-0.005) for {'criterion': 'entropy', 'max_depth': 16, 'max_features': 'auto', 'n_estimators': 75}\n",
      "0.871 (+/-0.003) for {'criterion': 'entropy', 'max_depth': 16, 'max_features': 'sqrt', 'n_estimators': 25}\n",
      "0.872 (+/-0.005) for {'criterion': 'entropy', 'max_depth': 16, 'max_features': 'sqrt', 'n_estimators': 50}\n",
      "0.873 (+/-0.005) for {'criterion': 'entropy', 'max_depth': 16, 'max_features': 'sqrt', 'n_estimators': 75}\n",
      "0.867 (+/-0.005) for {'criterion': 'entropy', 'max_depth': 17, 'max_features': 'auto', 'n_estimators': 25}\n",
      "0.868 (+/-0.003) for {'criterion': 'entropy', 'max_depth': 17, 'max_features': 'auto', 'n_estimators': 50}\n",
      "0.871 (+/-0.005) for {'criterion': 'entropy', 'max_depth': 17, 'max_features': 'auto', 'n_estimators': 75}\n",
      "0.867 (+/-0.003) for {'criterion': 'entropy', 'max_depth': 17, 'max_features': 'sqrt', 'n_estimators': 25}\n",
      "0.869 (+/-0.005) for {'criterion': 'entropy', 'max_depth': 17, 'max_features': 'sqrt', 'n_estimators': 50}\n",
      "0.869 (+/-0.005) for {'criterion': 'entropy', 'max_depth': 17, 'max_features': 'sqrt', 'n_estimators': 75}\n",
      "0.865 (+/-0.005) for {'criterion': 'entropy', 'max_depth': 18, 'max_features': 'auto', 'n_estimators': 25}\n",
      "0.866 (+/-0.006) for {'criterion': 'entropy', 'max_depth': 18, 'max_features': 'auto', 'n_estimators': 50}\n",
      "0.865 (+/-0.004) for {'criterion': 'entropy', 'max_depth': 18, 'max_features': 'auto', 'n_estimators': 75}\n",
      "0.864 (+/-0.005) for {'criterion': 'entropy', 'max_depth': 18, 'max_features': 'sqrt', 'n_estimators': 25}\n",
      "0.866 (+/-0.005) for {'criterion': 'entropy', 'max_depth': 18, 'max_features': 'sqrt', 'n_estimators': 50}\n",
      "0.866 (+/-0.005) for {'criterion': 'entropy', 'max_depth': 18, 'max_features': 'sqrt', 'n_estimators': 75}\n",
      "0.862 (+/-0.005) for {'criterion': 'entropy', 'max_depth': 19, 'max_features': 'auto', 'n_estimators': 25}\n",
      "0.864 (+/-0.006) for {'criterion': 'entropy', 'max_depth': 19, 'max_features': 'auto', 'n_estimators': 50}\n",
      "0.864 (+/-0.002) for {'criterion': 'entropy', 'max_depth': 19, 'max_features': 'auto', 'n_estimators': 75}\n",
      "0.861 (+/-0.006) for {'criterion': 'entropy', 'max_depth': 19, 'max_features': 'sqrt', 'n_estimators': 25}\n",
      "0.865 (+/-0.007) for {'criterion': 'entropy', 'max_depth': 19, 'max_features': 'sqrt', 'n_estimators': 50}\n",
      "0.865 (+/-0.005) for {'criterion': 'entropy', 'max_depth': 19, 'max_features': 'sqrt', 'n_estimators': 75}\n",
      "0.861 (+/-0.007) for {'criterion': 'entropy', 'max_depth': 20, 'max_features': 'auto', 'n_estimators': 25}\n",
      "0.861 (+/-0.002) for {'criterion': 'entropy', 'max_depth': 20, 'max_features': 'auto', 'n_estimators': 50}\n",
      "0.862 (+/-0.006) for {'criterion': 'entropy', 'max_depth': 20, 'max_features': 'auto', 'n_estimators': 75}\n",
      "0.862 (+/-0.006) for {'criterion': 'entropy', 'max_depth': 20, 'max_features': 'sqrt', 'n_estimators': 25}\n",
      "0.861 (+/-0.004) for {'criterion': 'entropy', 'max_depth': 20, 'max_features': 'sqrt', 'n_estimators': 50}\n",
      "0.862 (+/-0.003) for {'criterion': 'entropy', 'max_depth': 20, 'max_features': 'sqrt', 'n_estimators': 75}\n",
      "0.859 (+/-0.005) for {'criterion': 'entropy', 'max_depth': 21, 'max_features': 'auto', 'n_estimators': 25}\n",
      "0.861 (+/-0.006) for {'criterion': 'entropy', 'max_depth': 21, 'max_features': 'auto', 'n_estimators': 50}\n",
      "0.860 (+/-0.003) for {'criterion': 'entropy', 'max_depth': 21, 'max_features': 'auto', 'n_estimators': 75}\n",
      "0.859 (+/-0.004) for {'criterion': 'entropy', 'max_depth': 21, 'max_features': 'sqrt', 'n_estimators': 25}\n",
      "0.860 (+/-0.003) for {'criterion': 'entropy', 'max_depth': 21, 'max_features': 'sqrt', 'n_estimators': 50}\n",
      "0.860 (+/-0.003) for {'criterion': 'entropy', 'max_depth': 21, 'max_features': 'sqrt', 'n_estimators': 75}\n",
      "0.859 (+/-0.005) for {'criterion': 'entropy', 'max_depth': 22, 'max_features': 'auto', 'n_estimators': 25}\n",
      "0.858 (+/-0.003) for {'criterion': 'entropy', 'max_depth': 22, 'max_features': 'auto', 'n_estimators': 50}\n",
      "0.861 (+/-0.004) for {'criterion': 'entropy', 'max_depth': 22, 'max_features': 'auto', 'n_estimators': 75}\n",
      "0.858 (+/-0.003) for {'criterion': 'entropy', 'max_depth': 22, 'max_features': 'sqrt', 'n_estimators': 25}\n",
      "0.860 (+/-0.003) for {'criterion': 'entropy', 'max_depth': 22, 'max_features': 'sqrt', 'n_estimators': 50}\n",
      "0.859 (+/-0.002) for {'criterion': 'entropy', 'max_depth': 22, 'max_features': 'sqrt', 'n_estimators': 75}\n",
      "0.856 (+/-0.005) for {'criterion': 'entropy', 'max_depth': 23, 'max_features': 'auto', 'n_estimators': 25}\n",
      "0.858 (+/-0.006) for {'criterion': 'entropy', 'max_depth': 23, 'max_features': 'auto', 'n_estimators': 50}\n",
      "0.858 (+/-0.002) for {'criterion': 'entropy', 'max_depth': 23, 'max_features': 'auto', 'n_estimators': 75}\n",
      "0.858 (+/-0.005) for {'criterion': 'entropy', 'max_depth': 23, 'max_features': 'sqrt', 'n_estimators': 25}\n",
      "0.859 (+/-0.003) for {'criterion': 'entropy', 'max_depth': 23, 'max_features': 'sqrt', 'n_estimators': 50}\n",
      "0.857 (+/-0.003) for {'criterion': 'entropy', 'max_depth': 23, 'max_features': 'sqrt', 'n_estimators': 75}\n",
      "0.858 (+/-0.005) for {'criterion': 'entropy', 'max_depth': 24, 'max_features': 'auto', 'n_estimators': 25}\n",
      "0.858 (+/-0.007) for {'criterion': 'entropy', 'max_depth': 24, 'max_features': 'auto', 'n_estimators': 50}\n",
      "0.857 (+/-0.004) for {'criterion': 'entropy', 'max_depth': 24, 'max_features': 'auto', 'n_estimators': 75}\n",
      "0.857 (+/-0.005) for {'criterion': 'entropy', 'max_depth': 24, 'max_features': 'sqrt', 'n_estimators': 25}\n",
      "0.859 (+/-0.007) for {'criterion': 'entropy', 'max_depth': 24, 'max_features': 'sqrt', 'n_estimators': 50}\n",
      "0.858 (+/-0.006) for {'criterion': 'entropy', 'max_depth': 24, 'max_features': 'sqrt', 'n_estimators': 75}\n"
     ]
    }
   ],
   "source": [
    "# hyperparameters to tune\n",
    "tuned_parameters = [{'n_estimators': [25,50,75],\n",
    "                     'max_features': ['auto', 'sqrt'], \n",
    "                     'criterion' : ['log_loss','gini','entropy'],\n",
    "                    'max_depth' : range(10,25)}] \n",
    "\n",
    "# grid search model\n",
    "clfRF = GridSearchCV(RandomForestClassifier(), tuned_parameters, \n",
    "                   verbose=1, n_jobs=-1) \n",
    "# evaluate hyper-parameters\n",
    "clfRF.fit(xr_train, yr_train) \n",
    "\n",
    "# best hyperparameter values\n",
    "print(\"\\nBest parameters found:\")\n",
    "print(clfRF.best_params_) \n",
    "\n",
    "print(\"\\nGrid scores:\")\n",
    "means = clfRF.cv_results_['mean_test_score'] # mean accuracy with folds\n",
    "stds = clfRF.cv_results_['std_test_score'] # standard deviation of accuracies\n",
    "\n",
    "# for each hyperparameter combination show mean +/- 2 standard-deviations \n",
    "for mean, std, params in zip(means, stds, clfRF.cv_results_['params']):\n",
    "    print(\"%0.3f (+/-%0.03f) for %r\" %(mean, std * 2, params)) "
   ]
  },
  {
   "cell_type": "code",
   "execution_count": 27,
   "id": "08b93695",
   "metadata": {},
   "outputs": [
    {
     "name": "stdout",
     "output_type": "stream",
     "text": [
      "RandomForestClassifier(criterion='log_loss', max_depth=12, max_features='auto',\n",
      "                       n_estimators=75, random_state=11)\n",
      "Results on test data\n",
      "Test accuracy =  0.8845\n",
      "Test precision =  0.9692\n",
      "Test recall =  0.8333\n",
      "Classification report:\n",
      "              precision    recall  f1-score   support\n",
      "\n",
      "           0       0.79      0.96      0.87      5642\n",
      "           1       0.97      0.83      0.90      8387\n",
      "\n",
      "    accuracy                           0.88     14029\n",
      "   macro avg       0.88      0.90      0.88     14029\n",
      "weighted avg       0.90      0.88      0.89     14029\n",
      "\n",
      "Confusion matrix (Rows actual, Columns predicted):\n",
      "      0     1\n",
      "0  5420   222\n",
      "1  1398  6989\n",
      "\n",
      "ROC curve\n"
     ]
    },
    {
     "data": {
      "image/png": "[encoded data removed]",
      "text/plain": [
       "<Figure size 640x480 with 1 Axes>"
      ]
     },
     "metadata": {},
     "output_type": "display_data"
    }
   ],
   "source": [
    "# Train and test model using hyper-paramters\n",
    "good_model_RF = RandomForestClassifier(max_depth=12, \n",
    "                                    max_features = 'auto', \n",
    "                                    n_estimators=75,\n",
    "                                    criterion='log_loss', random_state = 11)\n",
    "\n",
    "# create model \n",
    "print(good_model_RF) # display model parameters\n",
    "good_model_RF.fit(xr_train, yr_train) # train model\n",
    "pred = good_model_RF.predict(xr_test) # predicted output for test examples\n",
    "\n",
    "# Printing results\n",
    "print(\"Results on test data\")\n",
    "acc = accuracy_score(yr_test, pred) # accuracy on test examples\n",
    "prec = precision_score(yr_test, pred) # precision on test examples\n",
    "reca = recall_score(yr_test, pred) # recall on test examples\n",
    "print(f'Test accuracy = {acc: .4f}') # round to 4 decimal places\n",
    "print(f'Test precision = {prec: .4f}') # round to 4 decimal places\n",
    "print(f'Test recall = {reca: .4f}') # round to 4 decimal places\n",
    "\n",
    "# print Classification report\n",
    "print(\"Classification report:\")\n",
    "print(classification_report(yr_test, pred))\n",
    "\n",
    "# print Confusion matrix \n",
    "print(\"Confusion matrix (Rows actual, Columns predicted):\")\n",
    "print(pd.DataFrame(confusion_matrix(yr_test, pred)))\n",
    "\n",
    "# print ROC curve\n",
    "print('\\nROC curve')\n",
    "plot_roc_curve(good_model_RF, xr_test, yr_test)  \n",
    "plt.show()"
   ]
  },
  {
   "cell_type": "markdown",
   "id": "dd5fe4b6",
   "metadata": {},
   "source": [
    "# XGB Classifier"
   ]
  },
  {
   "cell_type": "code",
   "execution_count": 28,
   "id": "1264d892",
   "metadata": {},
   "outputs": [
    {
     "data": {
      "text/html": [
       "<style>#sk-container-id-4 {color: black;background-color: white;}#sk-container-id-4 pre{padding: 0;}#sk-container-id-4 div.sk-toggleable {background-color: white;}#sk-container-id-4 label.sk-toggleable__label {cursor: pointer;display: block;width: 100%;margin-bottom: 0;padding: 0.3em;box-sizing: border-box;text-align: center;}#sk-container-id-4 label.sk-toggleable__label-arrow:before {content: \"▸\";float: left;margin-right: 0.25em;color: #696969;}#sk-container-id-4 label.sk-toggleable__label-arrow:hover:before {color: black;}#sk-container-id-4 div.sk-estimator:hover label.sk-toggleable__label-arrow:before {color: black;}#sk-container-id-4 div.sk-toggleable__content {max-height: 0;max-width: 0;overflow: hidden;text-align: left;background-color: #f0f8ff;}#sk-container-id-4 div.sk-toggleable__content pre {margin: 0.2em;color: black;border-radius: 0.25em;background-color: #f0f8ff;}#sk-container-id-4 input.sk-toggleable__control:checked~div.sk-toggleable__content {max-height: 200px;max-width: 100%;overflow: auto;}#sk-container-id-4 input.sk-toggleable__control:checked~label.sk-toggleable__label-arrow:before {content: \"▾\";}#sk-container-id-4 div.sk-estimator input.sk-toggleable__control:checked~label.sk-toggleable__label {background-color: #d4ebff;}#sk-container-id-4 div.sk-label input.sk-toggleable__control:checked~label.sk-toggleable__label {background-color: #d4ebff;}#sk-container-id-4 input.sk-hidden--visually {border: 0;clip: rect(1px 1px 1px 1px);clip: rect(1px, 1px, 1px, 1px);height: 1px;margin: -1px;overflow: hidden;padding: 0;position: absolute;width: 1px;}#sk-container-id-4 div.sk-estimator {font-family: monospace;background-color: #f0f8ff;border: 1px dotted black;border-radius: 0.25em;box-sizing: border-box;margin-bottom: 0.5em;}#sk-container-id-4 div.sk-estimator:hover {background-color: #d4ebff;}#sk-container-id-4 div.sk-parallel-item::after {content: \"\";width: 100%;border-bottom: 1px solid gray;flex-grow: 1;}#sk-container-id-4 div.sk-label:hover label.sk-toggleable__label {background-color: #d4ebff;}#sk-container-id-4 div.sk-serial::before {content: \"\";position: absolute;border-left: 1px solid gray;box-sizing: border-box;top: 0;bottom: 0;left: 50%;z-index: 0;}#sk-container-id-4 div.sk-serial {display: flex;flex-direction: column;align-items: center;background-color: white;padding-right: 0.2em;padding-left: 0.2em;position: relative;}#sk-container-id-4 div.sk-item {position: relative;z-index: 1;}#sk-container-id-4 div.sk-parallel {display: flex;align-items: stretch;justify-content: center;background-color: white;position: relative;}#sk-container-id-4 div.sk-item::before, #sk-container-id-4 div.sk-parallel-item::before {content: \"\";position: absolute;border-left: 1px solid gray;box-sizing: border-box;top: 0;bottom: 0;left: 50%;z-index: -1;}#sk-container-id-4 div.sk-parallel-item {display: flex;flex-direction: column;z-index: 1;position: relative;background-color: white;}#sk-container-id-4 div.sk-parallel-item:first-child::after {align-self: flex-end;width: 50%;}#sk-container-id-4 div.sk-parallel-item:last-child::after {align-self: flex-start;width: 50%;}#sk-container-id-4 div.sk-parallel-item:only-child::after {width: 0;}#sk-container-id-4 div.sk-dashed-wrapped {border: 1px dashed gray;margin: 0 0.4em 0.5em 0.4em;box-sizing: border-box;padding-bottom: 0.4em;background-color: white;}#sk-container-id-4 div.sk-label label {font-family: monospace;font-weight: bold;display: inline-block;line-height: 1.2em;}#sk-container-id-4 div.sk-label-container {text-align: center;}#sk-container-id-4 div.sk-container {/* jupyter's `normalize.less` sets `[hidden] { display: none; }` but bootstrap.min.css set `[hidden] { display: none !important; }` so we also need the `!important` here to be able to override the default hidden behavior on the sphinx rendered scikit-learn.org. See: https://github.com/scikit-learn/scikit-learn/issues/21755 */display: inline-block !important;position: relative;}#sk-container-id-4 div.sk-text-repr-fallback {display: none;}</style><div id=\"sk-container-id-4\" class=\"sk-top-container\"><div class=\"sk-text-repr-fallback\"><pre>XGBClassifier(base_score=0.5, booster=&#x27;gbtree&#x27;, callbacks=None,\n",
       "              colsample_bylevel=1, colsample_bynode=1, colsample_bytree=1,\n",
       "              early_stopping_rounds=None, enable_categorical=False,\n",
       "              eval_metric=None, gamma=0, gpu_id=-1, grow_policy=&#x27;depthwise&#x27;,\n",
       "              importance_type=None, interaction_constraints=&#x27;&#x27;,\n",
       "              learning_rate=0.300000012, max_bin=256, max_cat_to_onehot=4,\n",
       "              max_delta_step=0, max_depth=6, max_leaves=0, min_child_weight=1,\n",
       "              missing=nan, monotone_constraints=&#x27;()&#x27;, n_estimators=100,\n",
       "              n_jobs=0, num_parallel_tree=1, predictor=&#x27;auto&#x27;, random_state=0,\n",
       "              reg_alpha=0, reg_lambda=1, ...)</pre><b>In a Jupyter environment, please rerun this cell to show the HTML representation or trust the notebook. <br />On GitHub, the HTML representation is unable to render, please try loading this page with nbviewer.org.</b></div><div class=\"sk-container\" hidden><div class=\"sk-item\"><div class=\"sk-estimator sk-toggleable\"><input class=\"sk-toggleable__control sk-hidden--visually\" id=\"sk-estimator-id-4\" type=\"checkbox\" checked><label for=\"sk-estimator-id-4\" class=\"sk-toggleable__label sk-toggleable__label-arrow\">XGBClassifier</label><div class=\"sk-toggleable__content\"><pre>XGBClassifier(base_score=0.5, booster=&#x27;gbtree&#x27;, callbacks=None,\n",
       "              colsample_bylevel=1, colsample_bynode=1, colsample_bytree=1,\n",
       "              early_stopping_rounds=None, enable_categorical=False,\n",
       "              eval_metric=None, gamma=0, gpu_id=-1, grow_policy=&#x27;depthwise&#x27;,\n",
       "              importance_type=None, interaction_constraints=&#x27;&#x27;,\n",
       "              learning_rate=0.300000012, max_bin=256, max_cat_to_onehot=4,\n",
       "              max_delta_step=0, max_depth=6, max_leaves=0, min_child_weight=1,\n",
       "              missing=nan, monotone_constraints=&#x27;()&#x27;, n_estimators=100,\n",
       "              n_jobs=0, num_parallel_tree=1, predictor=&#x27;auto&#x27;, random_state=0,\n",
       "              reg_alpha=0, reg_lambda=1, ...)</pre></div></div></div></div></div>"
      ],
      "text/plain": [
       "XGBClassifier(base_score=0.5, booster='gbtree', callbacks=None,\n",
       "              colsample_bylevel=1, colsample_bynode=1, colsample_bytree=1,\n",
       "              early_stopping_rounds=None, enable_categorical=False,\n",
       "              eval_metric=None, gamma=0, gpu_id=-1, grow_policy='depthwise',\n",
       "              importance_type=None, interaction_constraints='',\n",
       "              learning_rate=0.300000012, max_bin=256, max_cat_to_onehot=4,\n",
       "              max_delta_step=0, max_depth=6, max_leaves=0, min_child_weight=1,\n",
       "              missing=nan, monotone_constraints='()', n_estimators=100,\n",
       "              n_jobs=0, num_parallel_tree=1, predictor='auto', random_state=0,\n",
       "              reg_alpha=0, reg_lambda=1, ...)"
      ]
     },
     "execution_count": 28,
     "metadata": {},
     "output_type": "execute_result"
    }
   ],
   "source": [
    "modelXGB= XGBClassifier()\n",
    "modelXGB.fit(xr_train, yr_train) "
   ]
  },
  {
   "cell_type": "code",
   "execution_count": 29,
   "id": "85a881f0",
   "metadata": {},
   "outputs": [
    {
     "name": "stdout",
     "output_type": "stream",
     "text": [
      "Training accuracy  0.934\n",
      "Testing accuracy  0.891\n"
     ]
    }
   ],
   "source": [
    "pred_trainXGB = modelXGB.predict(xr_train)\n",
    "pred_testXGB=modelXGB.predict(xr_test)\n",
    "\n",
    "acc_trainXGB = accuracy_score(pred_trainXGB, yr_train)\n",
    "acc_testXGB = accuracy_score(pred_testXGB, yr_test)\n",
    "print(f'Training accuracy {acc_trainXGB: .3f}') \n",
    "print(f'Testing accuracy {acc_testXGB: .3f}')"
   ]
  },
  {
   "cell_type": "code",
   "execution_count": 30,
   "id": "fe764678",
   "metadata": {},
   "outputs": [
    {
     "name": "stdout",
     "output_type": "stream",
     "text": [
      "Fitting 2 folds for each of 9 candidates, totalling 18 fits\n",
      "\n",
      "Best parameters found:\n",
      "{'learning_rate': 0.5, 'max_depth': 17, 'n_estimators': 150}\n",
      "\n",
      "Grid scores:\n",
      "0.435 (+/-0.051) for {'learning_rate': 0.5, 'max_depth': 17, 'n_estimators': 150}\n",
      "0.432 (+/-0.055) for {'learning_rate': 0.5, 'max_depth': 17, 'n_estimators': 170}\n",
      "0.429 (+/-0.049) for {'learning_rate': 0.5, 'max_depth': 17, 'n_estimators': 200}\n",
      "0.406 (+/-0.057) for {'learning_rate': 0.5, 'max_depth': 19, 'n_estimators': 150}\n",
      "0.406 (+/-0.064) for {'learning_rate': 0.5, 'max_depth': 19, 'n_estimators': 170}\n",
      "0.403 (+/-0.066) for {'learning_rate': 0.5, 'max_depth': 19, 'n_estimators': 200}\n",
      "0.345 (+/-0.051) for {'learning_rate': 0.5, 'max_depth': 21, 'n_estimators': 150}\n",
      "0.337 (+/-0.030) for {'learning_rate': 0.5, 'max_depth': 21, 'n_estimators': 170}\n",
      "0.352 (+/-0.039) for {'learning_rate': 0.5, 'max_depth': 21, 'n_estimators': 200}\n"
     ]
    }
   ],
   "source": [
    "# hyperparameters to tune\n",
    "param_grid = {'n_estimators':[150,170,200], 'max_depth': [17,19,21],'learning_rate':[0.5]} \n",
    "\n",
    "# grid search model\n",
    "clf_XGB =GridSearchCV(estimator = GradientBoostingRegressor(), param_grid = param_grid, cv=2, verbose=2, n_jobs=-1) \n",
    "\n",
    "# evaluate hyper-parameters\n",
    "clf_XGB.fit(xr_train, yr_train) \n",
    "\n",
    "# best hyperparameter values\n",
    "print(\"\\nBest parameters found:\")\n",
    "print(clf_XGB.best_params_) \n",
    "\n",
    "print(\"\\nGrid scores:\")\n",
    "means_ = clf_XGB.cv_results_['mean_test_score'] # mean accuracy with folds\n",
    "stds_ = clf_XGB.cv_results_['std_test_score'] # standard deviation of accuracies\n",
    "\n",
    "# for each hyperparameter combination show mean +/- 2 standard-deviations \n",
    "for mean, std, params in zip(means_, stds_, clf_XGB.cv_results_['params']):\n",
    "    print(\"%0.3f (+/-%0.03f) for %r\" %(mean, std * 2, params)) "
   ]
  },
  {
   "cell_type": "code",
   "execution_count": 31,
   "id": "f037335c",
   "metadata": {},
   "outputs": [
    {
     "name": "stdout",
     "output_type": "stream",
     "text": [
      "XGBClassifier(base_score=None, booster=None, callbacks=None,\n",
      "              colsample_bylevel=None, colsample_bynode=None,\n",
      "              colsample_bytree=None, early_stopping_rounds=None,\n",
      "              enable_categorical=False, eval_metric=None, gamma=None,\n",
      "              gpu_id=None, grow_policy=None, importance_type=None,\n",
      "              interaction_constraints=None, learning_rate=None, max_bin=None,\n",
      "              max_cat_to_onehot=None, max_delta_step=None, max_depth=17,\n",
      "              max_leaves=None, min_child_weight=None, missing=nan,\n",
      "              monotone_constraints=None, n_estimators=150, n_jobs=None,\n",
      "              num_parallel_tree=None, predictor=None, random_state=11,\n",
      "              reg_alpha=None, reg_lambda=None, ...)\n",
      "Results on test data\n",
      "Test accuracy =  0.8851\n",
      "Test precision =  0.9415\n",
      "Test recall =  0.8613\n",
      "Classification report:\n",
      "              precision    recall  f1-score   support\n",
      "\n",
      "           0       0.82      0.92      0.87      5642\n",
      "           1       0.94      0.86      0.90      8387\n",
      "\n",
      "    accuracy                           0.89     14029\n",
      "   macro avg       0.88      0.89      0.88     14029\n",
      "weighted avg       0.89      0.89      0.89     14029\n",
      "\n",
      "Confusion matrix (Rows actual, Columns predicted):\n",
      "      0     1\n",
      "0  5193   449\n",
      "1  1163  7224\n",
      "\n",
      "ROC curve\n"
     ]
    },
    {
     "data": {
      "image/png": "[encoded data removed]",
      "text/plain": [
       "<Figure size 640x480 with 1 Axes>"
      ]
     },
     "metadata": {},
     "output_type": "display_data"
    }
   ],
   "source": [
    "# Train and test model using hyper-parameters\n",
    "good_model_XGB = XGBClassifier(max_depth =17, n_estimators=150, random_state = 11) \n",
    "\n",
    "# create model \n",
    "print(good_model_XGB) # display model parameters\n",
    "good_model_XGB.fit(xr_train, yr_train) # train model\n",
    "pred = good_model_XGB.predict(xr_test) # predicted output for test examples\n",
    "\n",
    "# print results\n",
    "print(\"Results on test data\")\n",
    "acc = accuracy_score(yr_test, pred) # accuracy on test examples\n",
    "prec = precision_score(yr_test, pred) # precision on test examples\n",
    "reca = recall_score(yr_test, pred) # recall on test examples\n",
    "print(f'Test accuracy = {acc: .4f}') # round to 4 decimal places\n",
    "print(f'Test precision = {prec: .4f}') # round to 4 decimal places\n",
    "print(f'Test recall = {reca: .4f}') # round to 4 decimal places\n",
    "\n",
    "# print Classification report \n",
    "print(\"Classification report:\")\n",
    "print(classification_report(yr_test, pred))\n",
    "\n",
    "# print Confusion matrix \n",
    "print(\"Confusion matrix (Rows actual, Columns predicted):\")\n",
    "print(pd.DataFrame(confusion_matrix(yr_test, pred)))\n",
    "\n",
    "# print ROC curve\n",
    "print('\\nROC curve')\n",
    "plot_roc_curve(good_model_XGB, xr_test, yr_test)  # \n",
    "plt.show()"
   ]
  },
  {
   "cell_type": "markdown",
   "id": "b081d06a",
   "metadata": {},
   "source": [
    "# KNN Classifier"
   ]
  },
  {
   "cell_type": "code",
   "execution_count": 32,
   "id": "0940ba9a",
   "metadata": {},
   "outputs": [],
   "source": [
    "modelknn= KNeighborsClassifier().fit(xr_train,yr_train)"
   ]
  },
  {
   "cell_type": "code",
   "execution_count": 33,
   "id": "9c5b151c",
   "metadata": {},
   "outputs": [],
   "source": [
    "pred_trainknn = modelknn.predict(xr_train)\n",
    "pred_testknn=modelknn.predict(xr_test)"
   ]
  },
  {
   "cell_type": "code",
   "execution_count": 34,
   "id": "956525d2",
   "metadata": {},
   "outputs": [
    {
     "name": "stdout",
     "output_type": "stream",
     "text": [
      "Training accuracy  0.945\n",
      "Testing accuracy  0.894\n"
     ]
    }
   ],
   "source": [
    "acc_trainknn = accuracy_score(pred_trainknn, yr_train)\n",
    "acc_testknn = accuracy_score(pred_testknn, yr_test)\n",
    "print(f'Training accuracy {acc_trainknn: .3f}') \n",
    "print(f'Testing accuracy {acc_testknn: .3f}')"
   ]
  },
  {
   "cell_type": "code",
   "execution_count": 35,
   "id": "edc02829",
   "metadata": {},
   "outputs": [
    {
     "name": "stdout",
     "output_type": "stream",
     "text": [
      "Fitting 5 folds for each of 24 candidates, totalling 120 fits\n",
      "\n",
      "Best parameters found:\n",
      "{'algorithm': 'auto', 'metric': 'euclidean', 'n_neighbors': 5}\n",
      "\n",
      "Grid scores:\n",
      "0.864 (+/-0.011) for {'algorithm': 'auto', 'metric': 'euclidean', 'n_neighbors': 5}\n",
      "0.808 (+/-0.017) for {'algorithm': 'auto', 'metric': 'euclidean', 'n_neighbors': 10}\n",
      "0.735 (+/-0.011) for {'algorithm': 'auto', 'metric': 'euclidean', 'n_neighbors': 20}\n",
      "0.864 (+/-0.011) for {'algorithm': 'auto', 'metric': 'minkowski', 'n_neighbors': 5}\n",
      "0.808 (+/-0.017) for {'algorithm': 'auto', 'metric': 'minkowski', 'n_neighbors': 10}\n",
      "0.735 (+/-0.011) for {'algorithm': 'auto', 'metric': 'minkowski', 'n_neighbors': 20}\n",
      "0.864 (+/-0.011) for {'algorithm': 'ball_tree', 'metric': 'euclidean', 'n_neighbors': 5}\n",
      "0.808 (+/-0.017) for {'algorithm': 'ball_tree', 'metric': 'euclidean', 'n_neighbors': 10}\n",
      "0.735 (+/-0.011) for {'algorithm': 'ball_tree', 'metric': 'euclidean', 'n_neighbors': 20}\n",
      "0.864 (+/-0.011) for {'algorithm': 'ball_tree', 'metric': 'minkowski', 'n_neighbors': 5}\n",
      "0.808 (+/-0.017) for {'algorithm': 'ball_tree', 'metric': 'minkowski', 'n_neighbors': 10}\n",
      "0.735 (+/-0.011) for {'algorithm': 'ball_tree', 'metric': 'minkowski', 'n_neighbors': 20}\n",
      "0.864 (+/-0.011) for {'algorithm': 'kd_tree', 'metric': 'euclidean', 'n_neighbors': 5}\n",
      "0.808 (+/-0.017) for {'algorithm': 'kd_tree', 'metric': 'euclidean', 'n_neighbors': 10}\n",
      "0.735 (+/-0.011) for {'algorithm': 'kd_tree', 'metric': 'euclidean', 'n_neighbors': 20}\n",
      "0.864 (+/-0.011) for {'algorithm': 'kd_tree', 'metric': 'minkowski', 'n_neighbors': 5}\n",
      "0.808 (+/-0.017) for {'algorithm': 'kd_tree', 'metric': 'minkowski', 'n_neighbors': 10}\n",
      "0.735 (+/-0.011) for {'algorithm': 'kd_tree', 'metric': 'minkowski', 'n_neighbors': 20}\n",
      "0.864 (+/-0.011) for {'algorithm': 'brute', 'metric': 'euclidean', 'n_neighbors': 5}\n",
      "0.808 (+/-0.017) for {'algorithm': 'brute', 'metric': 'euclidean', 'n_neighbors': 10}\n",
      "0.735 (+/-0.011) for {'algorithm': 'brute', 'metric': 'euclidean', 'n_neighbors': 20}\n",
      "0.864 (+/-0.011) for {'algorithm': 'brute', 'metric': 'minkowski', 'n_neighbors': 5}\n",
      "0.808 (+/-0.017) for {'algorithm': 'brute', 'metric': 'minkowski', 'n_neighbors': 10}\n",
      "0.735 (+/-0.011) for {'algorithm': 'brute', 'metric': 'minkowski', 'n_neighbors': 20}\n"
     ]
    }
   ],
   "source": [
    "# hyperparameters to tune\n",
    "tuned_parameters = [{'algorithm' : ['auto', 'ball_tree', 'kd_tree', 'brute'],\n",
    "                     'metric' : ['euclidean', 'minkowski'], \n",
    "                     'n_neighbors' : [5, 10, 20]}]\n",
    "# grid search model\n",
    "clfknn = GridSearchCV(KNeighborsClassifier(), tuned_parameters, verbose=1, n_jobs=-1)\n",
    " \n",
    "# evaluate hyper-parameters\n",
    "clfknn.fit(xr_train, yr_train)\n",
    "\n",
    "# best hyperparameter values\n",
    "print(\"\\nBest parameters found:\")\n",
    "print(clfknn.best_params_) \n",
    "\n",
    "print(\"\\nGrid scores:\")\n",
    "meansknn = clfknn.cv_results_['mean_test_score'] # mean accuracy with folds\n",
    "stdsknn = clfknn.cv_results_['std_test_score'] # standard deviation of accuracies\n",
    "\n",
    "# for each hyperparameter combination show mean +/- 2 standard-deviations \n",
    "for mean, std, params in zip(meansknn, stdsknn, clfknn.cv_results_['params']):\n",
    "    print(\"%0.3f (+/-%0.03f) for %r\" %(mean, std * 2, params)) "
   ]
  },
  {
   "cell_type": "code",
   "execution_count": 36,
   "id": "d9fa511c",
   "metadata": {},
   "outputs": [
    {
     "name": "stdout",
     "output_type": "stream",
     "text": [
      "KNeighborsClassifier(metric='euclidean')\n",
      "Results on test data\n",
      "Test accuracy =  0.8943\n",
      "Test precision =  0.8770\n",
      "Test recall =  0.9574\n",
      "Classification report:\n",
      "              precision    recall  f1-score   support\n",
      "\n",
      "           0       0.93      0.80      0.86      5642\n",
      "           1       0.88      0.96      0.92      8387\n",
      "\n",
      "    accuracy                           0.89     14029\n",
      "   macro avg       0.90      0.88      0.89     14029\n",
      "weighted avg       0.90      0.89      0.89     14029\n",
      "\n",
      "Confusion matrix (Rows actual, Columns predicted):\n",
      "      0     1\n",
      "0  4516  1126\n",
      "1   357  8030\n",
      "\n",
      "ROC curve\n"
     ]
    },
    {
     "data": {
      "image/png": "[encoded data removed]",
      "text/plain": [
       "<Figure size 640x480 with 1 Axes>"
      ]
     },
     "metadata": {},
     "output_type": "display_data"
    }
   ],
   "source": [
    "# Train and test model using hyper-parameters\n",
    "good_model_knn = KNeighborsClassifier(algorithm='auto', metric='euclidean', n_neighbors=5)\n",
    "\n",
    "# create model \n",
    "print(good_model_knn) # display model parameters\n",
    "good_model_knn.fit(xr_train, yr_train) # train model\n",
    "predknn = good_model_knn.predict(xr_test) # predicted output for test examples\n",
    "\n",
    "# print results\n",
    "print(\"Results on test data\")\n",
    "accknn = accuracy_score(yr_test, predknn) # accuracy on test examples\n",
    "precknn = precision_score(yr_test, predknn) # precision on test examples\n",
    "recaknn = recall_score(yr_test, predknn) # recall on test examples\n",
    "print(f'Test accuracy = {accknn: .4f}') # round to 4 decimal places\n",
    "print(f'Test precision = {precknn: .4f}') # round to 4 decimal places\n",
    "print(f'Test recall = {recaknn: .4f}') # round to 4 decimal places\n",
    "\n",
    "# print Classification report \n",
    "print(\"Classification report:\")\n",
    "print(classification_report(yr_test, predknn))\n",
    "\n",
    "# print Confusion matrix \n",
    "print(\"Confusion matrix (Rows actual, Columns predicted):\")\n",
    "print(pd.DataFrame(confusion_matrix(yr_test, predknn)))\n",
    "\n",
    "# print ROC curve\n",
    "print('\\nROC curve')\n",
    "plot_roc_curve(good_model_knn, xr_test, yr_test)  \n",
    "plt.show()"
   ]
  },
  {
   "cell_type": "markdown",
   "id": "ba1458a7",
   "metadata": {},
   "source": [
    "### **GETTING COMBINED RESULTS FROM THE TUNED MODELS** "
   ]
  },
  {
   "cell_type": "code",
   "execution_count": 37,
   "id": "b03f2ee7",
   "metadata": {},
   "outputs": [],
   "source": [
    "models_opt = []\n",
    "models_opt.append(('Decision Tree Classifier', DecisionTreeClassifier(criterion = 'log_loss', max_features= 'sqrt',\n",
    "                                                                      max_depth= 16, random_state = 11)))\n",
    "\n",
    "models_opt.append(('Random Forest Classifier', RandomForestClassifier(max_features = 'auto', n_estimators = 75,\n",
    "                                                           max_depth= 12, criterion = 'entropy', random_state = 11)))\n",
    "\n",
    "models_opt.append(('XGB Classifier',XGBClassifier(max_depth = 17, n_estimators=150, random_state = 11, learning_rate =1)))\n",
    "\n",
    "models_opt.append(('KNN Classifier', KNeighborsClassifier(n_neighbors = 5, metric = 'euclidean', algorithm='auto')))\n",
    "\n"
   ]
  },
  {
   "cell_type": "code",
   "execution_count": 38,
   "id": "52a4aaf0",
   "metadata": {},
   "outputs": [
    {
     "data": {
      "text/html": [
       "<div>\n",
       "<style scoped>\n",
       "    .dataframe tbody tr th:only-of-type {\n",
       "        vertical-align: middle;\n",
       "    }\n",
       "\n",
       "    .dataframe tbody tr th {\n",
       "        vertical-align: top;\n",
       "    }\n",
       "\n",
       "    .dataframe thead th {\n",
       "        text-align: right;\n",
       "    }\n",
       "</style>\n",
       "<table border=\"1\" class=\"dataframe\">\n",
       "  <thead>\n",
       "    <tr style=\"text-align: right;\">\n",
       "      <th></th>\n",
       "      <th>Algorithm</th>\n",
       "      <th>ROC AUC</th>\n",
       "      <th>Accuracy</th>\n",
       "      <th>Precision</th>\n",
       "      <th>F1 Scores</th>\n",
       "    </tr>\n",
       "  </thead>\n",
       "  <tbody>\n",
       "    <tr>\n",
       "      <th>1</th>\n",
       "      <td>Random Forest Classifier</td>\n",
       "      <td>92.92</td>\n",
       "      <td>88.37</td>\n",
       "      <td>96.71</td>\n",
       "      <td>89.66</td>\n",
       "    </tr>\n",
       "    <tr>\n",
       "      <th>3</th>\n",
       "      <td>KNN Classifier</td>\n",
       "      <td>95.07</td>\n",
       "      <td>87.87</td>\n",
       "      <td>86.39</td>\n",
       "      <td>90.42</td>\n",
       "    </tr>\n",
       "    <tr>\n",
       "      <th>2</th>\n",
       "      <td>XGB Classifier</td>\n",
       "      <td>93.74</td>\n",
       "      <td>87.62</td>\n",
       "      <td>92.30</td>\n",
       "      <td>89.42</td>\n",
       "    </tr>\n",
       "    <tr>\n",
       "      <th>0</th>\n",
       "      <td>Decision Tree Classifier</td>\n",
       "      <td>85.73</td>\n",
       "      <td>81.67</td>\n",
       "      <td>88.09</td>\n",
       "      <td>84.13</td>\n",
       "    </tr>\n",
       "  </tbody>\n",
       "</table>\n",
       "</div>"
      ],
      "text/plain": [
       "                  Algorithm  ROC AUC  Accuracy  Precision  F1 Scores\n",
       "1  Random Forest Classifier    92.92     88.37      96.71      89.66\n",
       "3            KNN Classifier    95.07     87.87      86.39      90.42\n",
       "2            XGB Classifier    93.74     87.62      92.30      89.42\n",
       "0  Decision Tree Classifier    85.73     81.67      88.09      84.13"
      ]
     },
     "execution_count": 38,
     "metadata": {},
     "output_type": "execute_result"
    }
   ],
   "source": [
    "acc_results_opt =[]\n",
    "auc_results_opt =[]\n",
    "pre_results_opt =[]\n",
    "f1_results_opt =[]\n",
    "names_opt = []\n",
    "\n",
    "result_col_opt = [\"Algorithm\", \"ROC AUC\", \"Accuracy\", 'Precision', 'F1 Scores']\n",
    "model_results_opt = pd.DataFrame(columns = result_col_opt)\n",
    "\n",
    "i=0\n",
    "# K- fold cross validation\n",
    "\n",
    "for name, model in models_opt:\n",
    "    names_opt.append(name)\n",
    "    kfold = model_selection.KFold(n_splits=10)\n",
    "    \n",
    "    cv_acc_results_opt = model_selection.cross_val_score(model, xr_train, yr_train, \n",
    "                    cv = kfold, scoring=\"accuracy\")\n",
    "    cv_auc_results_opt = model_selection.cross_val_score(model, xr_train, yr_train,\n",
    "                    cv = kfold, scoring=\"roc_auc\")\n",
    "    cv_pre_results_opt = model_selection.cross_val_score(model, xr_train, yr_train,\n",
    "                    cv = kfold, scoring=\"precision\")\n",
    "    cv_f1_results_opt = model_selection.cross_val_score(model, xr_train, yr_train,\n",
    "                    cv = kfold, scoring=\"f1\")\n",
    "    acc_results_opt.append(cv_acc_results_opt)\n",
    "    auc_results_opt.append(cv_auc_results_opt)\n",
    "    pre_results_opt.append(cv_pre_results_opt)\n",
    "    f1_results_opt.append(cv_f1_results_opt)\n",
    "    model_results_opt.loc[i] = [name, \n",
    "                           round(cv_auc_results_opt.mean()*100,2),\n",
    "                           round(cv_acc_results_opt.mean()*100,2),\n",
    "                           round(cv_pre_results_opt.mean()*100,2),\n",
    "                           round(cv_f1_results_opt.mean()*100,2)]\n",
    "    i+=1\n",
    "\n",
    "model_results_opt.sort_values(by = ['Accuracy'], ascending=False)"
   ]
  },
  {
   "cell_type": "markdown",
   "id": "a68aea9d",
   "metadata": {},
   "source": [
    "## Pickling the model"
   ]
  },
  {
   "cell_type": "code",
   "execution_count": 40,
   "id": "d722371d",
   "metadata": {},
   "outputs": [
    {
     "data": {
      "text/plain": [
       "0.8845249126808753"
      ]
     },
     "execution_count": 40,
     "metadata": {},
     "output_type": "execute_result"
    }
   ],
   "source": [
    "filename = 'model1.sav'\n",
    "pickle.dump(good_model_RF, open(filename, 'wb'))\n",
    "load_model = pickle.load(open(filename, 'rb'))\n",
    "good_model_RF_r1 = load_model.score(xr_test, yr_test)\n",
    "good_model_RF_r1"
   ]
  },
  {
   "cell_type": "code",
   "execution_count": null,
   "id": "32d02274",
   "metadata": {},
   "outputs": [],
   "source": []
  }
 ],
 "metadata": {
  "kernelspec": {
   "display_name": "Python 3 (ipykernel)",
   "language": "python",
   "name": "python3"
  },
  "language_info": {
   "codemirror_mode": {
    "name": "ipython",
    "version": 3
   },
   "file_extension": ".py",
   "mimetype": "text/x-python",
   "name": "python",
   "nbconvert_exporter": "python",
   "pygments_lexer": "ipython3",
   "version": "3.9.13"
  }
 },
 "nbformat": 4,
 "nbformat_minor": 5
}
